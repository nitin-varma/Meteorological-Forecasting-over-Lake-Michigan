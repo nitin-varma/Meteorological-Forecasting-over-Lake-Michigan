{
 "cells": [
  {
   "cell_type": "markdown",
   "id": "55274bdc",
   "metadata": {},
   "source": [
    "<div style=\"text-align: right\">INFO 6106 Neural Modeling, Final Project, Milestone 2</div>\n",
    "<div style=\"text-align: right\">Lokeshwaran Balamurugan, Nitin Sai Varma Indukuri, Krishica Gopalakrishnan</div>"
   ]
  },
  {
   "cell_type": "markdown",
   "id": "782428a8",
   "metadata": {},
   "source": [
    "# 24-Hour Window Hybrid Model (with Manual Weights)"
   ]
  },
  {
   "cell_type": "markdown",
   "id": "2170eeb7",
   "metadata": {},
   "source": [
    "**Objective**\n",
    "Train hybrid models that combine meteorological and satellite image data, exploring different architectures.\n",
    "\n",
    "**Tasks**\n",
    "\n",
    "**Model Training**\n",
    "- Train different hybrid models integrating meteorological and image data.\n",
    "- Note: Below are potential guidelines or ideas; you can choose to do them:\n",
    "  - Model 1: ConvLSTM2D + LSTM (Shallow).\n",
    "  - Model 2: Conv3D + ConvLSTM2D + LSTM (Shallow).\n",
    "  - Model 3: ConvLSTM2D + LSTM (Deep).\n",
    "  - Model 4: Conv3D + ConvLSTM2D + LSTM (Deep).\n",
    "  - Experiment with different input window sizes (e.g., 24-hour meteorological + 8-hour image vs. 48-hour meteorological + 16-hour image, etc.).\n",
    "  - Fine-tune hyperparameters for each model.\n",
    "\n",
    "**Evaluation and Insights**\n",
    "- Evaluate models using classification metrics (e.g., accuracy, F1-score) and generate confusion matrices.\n",
    "- Plot training and validation loss/accuracy curves for each model.\n",
    "- Compare model performances and document findings.\n"
   ]
  },
  {
   "cell_type": "markdown",
   "id": "3a1db634",
   "metadata": {},
   "source": [
    "This notebook focuses on developing and evaluating hybrid deep learning models that integrate meteorological and satellite image data for spatiotemporal analysis for the **24-Hour Window**, where we'll be giving the model an 24-Hour Sequential Meteorological data and 8-satellite images to predict the class of rainfall for the **immediate next day**. And in this notebook, we'll be using user-defined class weights for the model training. By leveraging both sequential meteorological features and spatial features from satellite images, we aim to create robust models capable of accurate predictions or classifications."
   ]
  },
  {
   "cell_type": "markdown",
   "id": "5289d734",
   "metadata": {},
   "source": [
    "## 1. Importing Necessary Libraries"
   ]
  },
  {
   "cell_type": "markdown",
   "id": "01943ded",
   "metadata": {},
   "source": [
    "These libraries are essential for tasks involving data preprocessing, visualization, and model development. Libraries like os, pandas, and numpy facilitate loading, cleaning, and manipulating both meteorological time-series and satellite image data, while pickle helps save and reuse processed datasets or trained models. Image-specific tools like PIL and cv2 enable resizing, augmenting, and transforming satellite images for model input, and SMOTE addresses class imbalance in datasets. Visualization libraries, including matplotlib and seaborn, help track training progress and evaluate model performance using plots such as confusion matrices and learning curves. Lastly, utility libraries like tqdm enhance workflow efficiency with progress bars, and warnings ensures clean, readable outputs by suppressing unnecessary alerts."
   ]
  },
  {
   "cell_type": "code",
   "execution_count": 1,
   "id": "06304e6a",
   "metadata": {},
   "outputs": [],
   "source": [
    "# Data Manipulation Libraries\n",
    "import os\n",
    "import pandas as pd\n",
    "import numpy as np\n",
    "import pickle\n",
    "import ast\n",
    "\n",
    "# Plotting Libraries\n",
    "import matplotlib.pyplot as plt\n",
    "import matplotlib.cm as cm\n",
    "import seaborn as sns\n",
    "%matplotlib inline\n",
    "\n",
    "# Image Processing Libraries\n",
    "from PIL import Image, ImageOps\n",
    "import cv2\n",
    "\n",
    "from imblearn.over_sampling import SMOTE\n",
    "\n",
    "# Utility Libraries\n",
    "from tqdm import tqdm\n",
    "\n",
    "# Suppress warnings for cleaner output\n",
    "import warnings\n",
    "warnings.filterwarnings('ignore')"
   ]
  },
  {
   "cell_type": "markdown",
   "id": "827b5d99",
   "metadata": {},
   "source": [
    "## 2. Loading Data"
   ]
  },
  {
   "cell_type": "markdown",
   "id": "ad03d85c",
   "metadata": {},
   "source": [
    "We'll now preprocess and manage the datasets required for training hybrid models that combine meteorological and satellite image data. To achieve this, we start by defining different temporal window sizes such as 24, 48, and 72 hours, along with the corresponding number of satellite images and prediction shifts for each window size. These settings will allow us to experiment with varying input-output configurations."
   ]
  },
  {
   "cell_type": "code",
   "execution_count": 2,
   "id": "3b419e6e-0fa9-4937-8fef-c9866d7ce321",
   "metadata": {},
   "outputs": [],
   "source": [
    "# Define window sizes and corresponding number of images\n",
    "window_sizes = [24, 48, 72]  # in hours\n",
    "images_per_window_dict = {24: 8, 48: 16, 72: 24}\n",
    "\n",
    "# Define the prediction shift for each window size\n",
    "prediction_shifts = {24: 24, 48: 48, 72: 72}\n",
    "\n",
    "# window_sizes = [24]  # in hours\n",
    "# images_per_window_dict = {24: 8}\n",
    "\n",
    "# # Define the prediction shift for each window size\n",
    "# prediction_shifts = {24: 24}\n",
    "\n",
    "# Define meteorological features to include\n",
    "meteo_features = [\n",
    "    'Temp_F', 'RH_pct', 'Dewpt_F', 'Wind_Spd_mph',\n",
    "    'Wind_Direction_deg', 'Peak_Wind_Gust_mph',\n",
    "    'Low_Cloud_Ht_ft', 'Med_Cloud_Ht_ft',\n",
    "    'High_Cloud_Ht_ft', 'Visibility_mi',\n",
    "    'Atm_Press_hPa', 'Sea_Lev_Press_hPa',\n",
    "    'Altimeter_hPa', 'Precip_in'\n",
    "]"
   ]
  },
  {
   "cell_type": "markdown",
   "id": "1138b3eb",
   "metadata": {},
   "source": [
    "Next, we'll set up a directory to store all preprocessed data, ensuring that previously processed datasets can be reused. For each window size, we'll check if the required preprocessed files exist. If they do, we'll load them, including meteorological data, satellite image data, target variables, and timestamps. These timestamps will help us maintain the temporal sequence and alignment necessary for accurate modeling."
   ]
  },
  {
   "cell_type": "code",
   "execution_count": 3,
   "id": "2597ce1c-d818-45e0-9557-29ac59f43141",
   "metadata": {},
   "outputs": [],
   "source": [
    "# Dictionary to store processed data\n",
    "data_windows = {window_size: {'X_meteo': [], 'X_images': [], 'y': [], 'timestamps': []} for window_size in window_sizes}"
   ]
  },
  {
   "cell_type": "code",
   "execution_count": 4,
   "id": "22454e5a-4dbe-414e-b8a9-45c830bf03f9",
   "metadata": {},
   "outputs": [
    {
     "name": "stdout",
     "output_type": "stream",
     "text": [
      "\n",
      "Processing data for window size: 24 hours\n",
      "Data exists for window size: 24. Loading...\n",
      "Loaded data for window size 24: X_meteo shape (47834, 24, 14), X_images shape (47834, 32768), y shape (47834,)\n",
      "\n",
      "Processing data for window size: 48 hours\n",
      "Data exists for window size: 48. Loading...\n",
      "Loaded data for window size 48: X_meteo shape (47786, 48, 14), X_images shape (47786, 65536), y shape (47786,)\n",
      "\n",
      "Processing data for window size: 72 hours\n",
      "Data exists for window size: 72. Loading...\n",
      "Loaded data for window size 72: X_meteo shape (47738, 72, 14), X_images shape (47738, 98304), y shape (47738,)\n",
      "Processing complete.\n"
     ]
    }
   ],
   "source": [
    "import os\n",
    "import pickle\n",
    "\n",
    "# Directory to store preprocessed data\n",
    "data_dir = r\"\\Users\\nitin\\Music\\Neural Modeling Methods and Tools\\Assignments\\Final Project\\data1\"\n",
    "os.makedirs(data_dir, exist_ok=True)\n",
    "\n",
    "# Dictionary to hold filepaths for processed data, including timestamps\n",
    "data_files = {\n",
    "    window_size: {\n",
    "        'X_meteo': os.path.join(data_dir, f\"X_meteo_{window_size}.pkl\"),\n",
    "        'X_images': os.path.join(data_dir, f\"X_images_{window_size}.pkl\"),\n",
    "        'y': os.path.join(data_dir, f\"y_{window_size}.pkl\"),\n",
    "        'timestamps': os.path.join(data_dir, f\"timestamps_{window_size}.pkl\"),  # Add timestamps\n",
    "    } for window_size in window_sizes\n",
    "}\n",
    "\n",
    "\n",
    "# Dictionary to store processed data\n",
    "data_windows = {window_size: {'X_meteo': [], 'X_images': [], 'y': [], 'timestamps': []} for window_size in window_sizes}\n",
    "\n",
    "for window_size in window_sizes:\n",
    "    print(f\"\\nProcessing data for window size: {window_size} hours\")\n",
    "    \n",
    "    # Prediction shift for the current window size\n",
    "    prediction_shift = prediction_shifts[window_size]\n",
    "    \n",
    "    # Check if all files exist for this window size\n",
    "    if all(os.path.exists(data_files[window_size][key]) for key in ['X_meteo', 'X_images', 'y']):\n",
    "        print(f\"Data exists for window size: {window_size}. Loading...\")\n",
    "        \n",
    "        # Load preprocessed data\n",
    "        with open(data_files[window_size]['X_meteo'], 'rb') as f:\n",
    "            data_windows[window_size]['X_meteo'] = pickle.load(f)\n",
    "        with open(data_files[window_size]['X_images'], 'rb') as f:\n",
    "            data_windows[window_size]['X_images'] = pickle.load(f)\n",
    "        with open(data_files[window_size]['y'], 'rb') as f:\n",
    "            data_windows[window_size]['y'] = pickle.load(f)\n",
    "        with open(data_files[window_size]['timestamps'], 'rb') as f:  # Load timestamps\n",
    "            data_windows[window_size]['timestamps'] = pickle.load(f)\n",
    "        \n",
    "        print(f\"Loaded data for window size {window_size}: \"\n",
    "              f\"X_meteo shape {np.array(data_windows[window_size]['X_meteo']).shape}, \"\n",
    "              f\"X_images shape {np.array(data_windows[window_size]['X_images']).shape}, \"\n",
    "              f\"y shape {np.array(data_windows[window_size]['y']).shape}\")\n",
    "print(\"Processing complete.\")"
   ]
  },
  {
   "cell_type": "markdown",
   "id": "d45106b2",
   "metadata": {},
   "source": [
    "Now that we have all the data loaded, let's look at a couple of our sliding window samples from the 24-Hour Window that we are going to use to train this model."
   ]
  },
  {
   "cell_type": "code",
   "execution_count": 5,
   "id": "94358427-2c0a-4b2c-9c20-2e58cf193446",
   "metadata": {
    "tags": []
   },
   "outputs": [],
   "source": [
    "def display_sliding_window_samples(data_windows, window_size, num_samples=24):\n",
    "    \"\"\"\n",
    "    Display sliding window samples including meteorological data, associated images with timestamps, and window timeframe.\n",
    "\n",
    "    Args:\n",
    "        data_windows (dict): Contains 'X_meteo', 'X_images', 'timestamps', and 'y' for each window size.\n",
    "        window_size (int): Size of the sliding window (24, 48, or 72 hours).\n",
    "        num_samples (int): Number of sliding window samples to display.\n",
    "    \"\"\"\n",
    "    # Extract relevant data for the given window size\n",
    "    X_meteo = np.array(data_windows[window_size]['X_meteo'])\n",
    "    X_images = np.array(data_windows[window_size]['X_images']).reshape(-1, images_per_window_dict[window_size], 64, 64)\n",
    "    y = np.array(data_windows[window_size]['y'])\n",
    "    timestamps = np.array(data_windows[window_size]['timestamps'])\n",
    "\n",
    "    # Feature column names for meteorological data\n",
    "    meteo_columns = [\n",
    "        'Temp_F', 'RH_pct', 'Dewpt_F', 'Wind_Spd_mph', 'Wind_Direction_deg',\n",
    "        'Peak_Wind_Gust_mph', 'Low_Cloud_Ht_ft', 'Med_Cloud_Ht_ft',\n",
    "        'High_Cloud_Ht_ft', 'Visibility_mi', 'Atm_Press_hPa',\n",
    "        'Sea_Lev_Press_hPa', 'Altimeter_hPa', 'Precip_in'\n",
    "    ]\n",
    "\n",
    "    # Display the selected number of samples\n",
    "    for i in range(min(num_samples, len(X_meteo))):\n",
    "        print(f\"Sample {i + 1} (Window Size: {window_size} hours)\")\n",
    "        print(f\"Timeframe: {timestamps[i][0]} to {timestamps[i][-1]}\")\n",
    "        print(\"--------------------------------------------------\")\n",
    "\n",
    "        # Display meteorological data\n",
    "        print(\"Meteorological Data:\")\n",
    "        display(pd.DataFrame(X_meteo[i], columns=meteo_columns))\n",
    "        print(f\"Target (y): {y[i]}\")\n",
    "\n",
    "        # Plot images with timestamps\n",
    "        fig, axes = plt.subplots(1, X_images.shape[1], figsize=(20, 5))\n",
    "        plt.suptitle(f\"Images for Sample {i + 1} (Window {window_size} hours)\")\n",
    "\n",
    "        for j, (img, ts) in enumerate(zip(X_images[i], timestamps[i])):\n",
    "            ax = axes[j]\n",
    "            ax.imshow(img, cmap='gray')\n",
    "            ax.axis('off')\n",
    "            ax.set_title(ts if ts != \"No Image\" else \"Placeholder\")\n",
    "\n",
    "        plt.tight_layout()\n",
    "        plt.show()"
   ]
  },
  {
   "cell_type": "code",
   "execution_count": 6,
   "id": "b6d55561-6317-4470-9011-bd223ed28c0b",
   "metadata": {
    "collapsed": true,
    "jupyter": {
     "outputs_hidden": true
    },
    "tags": []
   },
   "outputs": [],
   "source": [
    "# # Display the first 24 samples for a 24-hour window\n",
    "# display_sliding_window_samples(data_windows, window_size=24, num_samples=24)"
   ]
  },
  {
   "cell_type": "markdown",
   "id": "22ef9ee3",
   "metadata": {},
   "source": [
    "## 3. Removing Corrupt Timestamps"
   ]
  },
  {
   "cell_type": "markdown",
   "id": "0152a1b5",
   "metadata": {},
   "source": [
    "Here’s how we will approach the task of filtering out corrupt time stamps:\n",
    "- <b>Iterate Through Each Window Size:</b> For each window size, we will loop through the timestamps associated with the sliding windows. Our goal will be to identify valid windows where none of the timestamps are part of the corrupt_timestamps list.\n",
    "- <b>Filter Valid Indices:</b> Using a list comprehension, we will check every sliding window's timestamps. If a window’s timestamps do not contain any corrupt entries, we will add that index to the list of valid indices for the respective window size."
   ]
  },
  {
   "cell_type": "code",
   "execution_count": 7,
   "id": "f5bebe46",
   "metadata": {},
   "outputs": [
    {
     "name": "stdout",
     "output_type": "stream",
     "text": [
      "Loaded 2920 corrupt timestamps\n"
     ]
    }
   ],
   "source": [
    "# Load corrupt timestamps from the pickle file\n",
    "with open(r'\\Users\\nitin\\Music\\Neural Modeling Methods and Tools\\Assignments\\Final Project\\data1\\corrupt_timestamps.pkl', 'rb') as f:\n",
    "    corrupt_timestamps = pickle.load(f)\n",
    "\n",
    "print(f\"Loaded {len(corrupt_timestamps)} corrupt timestamps\")"
   ]
  },
  {
   "cell_type": "markdown",
   "id": "9fbae64e",
   "metadata": {},
   "source": [
    "Once loaded, we'll calculate valid indices for each defined window size (24, 48, and 72 hours) by checking each window's timestamps and excluding those with any corrupt entries."
   ]
  },
  {
   "cell_type": "code",
   "execution_count": 8,
   "id": "b55f1fa4-b0ed-4845-9515-10dcee10e5ae",
   "metadata": {},
   "outputs": [
    {
     "name": "stdout",
     "output_type": "stream",
     "text": [
      "\n",
      "Calculating valid indices for window size: 24 hours\n",
      "Total valid windows (24): 39067 out of 47834\n",
      "\n",
      "Calculating valid indices for window size: 48 hours\n",
      "Total valid windows (48): 38995 out of 47786\n",
      "\n",
      "Calculating valid indices for window size: 72 hours\n",
      "Total valid windows (72): 38923 out of 47738\n"
     ]
    }
   ],
   "source": [
    "# Dictionary to store valid indices for each window size\n",
    "valid_indices_all = {}\n",
    "\n",
    "# Calculate valid indices for each window size\n",
    "for window_size in [24, 48, 72]:\n",
    "    print(f\"\\nCalculating valid indices for window size: {window_size} hours\")\n",
    "    \n",
    "    # Get valid indices\n",
    "    valid_indices_all[window_size] = [\n",
    "        idx\n",
    "        for idx, timestamps in enumerate(data_windows[window_size]['timestamps'])\n",
    "        if not any(ts in corrupt_timestamps for ts in timestamps if ts != \"No Image\")\n",
    "    ]\n",
    "    \n",
    "    print(f\"Total valid windows ({window_size}): {len(valid_indices_all[window_size])} \"\n",
    "          f\"out of {len(data_windows[window_size]['timestamps'])}\")"
   ]
  },
  {
   "cell_type": "markdown",
   "id": "31d32e01",
   "metadata": {},
   "source": [
    "Now that we know which timestamps are corrputed, we are now going to filter them out:\n",
    "- <b>Filter Data for Each Window Size:</b>\n",
    "    For each window size, we will:\n",
    "    - Retrieve the valid indices from valid_indices_all that we calculated earlier.\n",
    "    - Use these indices to filter the corresponding data in data_windows. This step ensures that only valid sliding windows are included, based on the clean timestamps.\n",
    "- <b>Store the Filtered Data:</b> For each window size, we will store the filtered meteorological data, image data, target labels, and timestamps in filtered_data_all. This allows us to keep the data organized and ready for further processing."
   ]
  },
  {
   "cell_type": "code",
   "execution_count": 9,
   "id": "da870e32-fdf7-4f43-9c3f-33828060037b",
   "metadata": {},
   "outputs": [
    {
     "name": "stdout",
     "output_type": "stream",
     "text": [
      "\n",
      "Filtering data for window size: 24 hours\n",
      "Filtered X_meteo shape (24): (39067, 24, 14)\n",
      "Filtered X_images shape (24): (39067, 32768)\n",
      "Filtered y shape (24): (39067,)\n",
      "Filtered timestamps shape (24): (39067, 8)\n",
      "\n",
      "Filtering data for window size: 48 hours\n",
      "Filtered X_meteo shape (48): (38995, 48, 14)\n",
      "Filtered X_images shape (48): (38995, 65536)\n",
      "Filtered y shape (48): (38995,)\n",
      "Filtered timestamps shape (48): (38995, 16)\n",
      "\n",
      "Filtering data for window size: 72 hours\n",
      "Filtered X_meteo shape (72): (38923, 72, 14)\n",
      "Filtered X_images shape (72): (38923, 98304)\n",
      "Filtered y shape (72): (38923,)\n",
      "Filtered timestamps shape (72): (38923, 24)\n"
     ]
    }
   ],
   "source": [
    "# Dictionary to store filtered data for each window size\n",
    "filtered_data_all = {}\n",
    "\n",
    "# Filter data for each window size\n",
    "for window_size in [24, 48, 72]:\n",
    "    print(f\"\\nFiltering data for window size: {window_size} hours\")\n",
    "    \n",
    "    valid_indices = valid_indices_all[window_size]\n",
    "    \n",
    "    # Filter the data\n",
    "    filtered_data_all[window_size] = {\n",
    "        'X_meteo': np.array(data_windows[window_size]['X_meteo'])[valid_indices],\n",
    "        'X_images': np.array(data_windows[window_size]['X_images'])[valid_indices],\n",
    "        'y': np.array(data_windows[window_size]['y'])[valid_indices],\n",
    "        'timestamps': np.array(data_windows[window_size]['timestamps'])[valid_indices],\n",
    "    }\n",
    "    \n",
    "    # Print shapes\n",
    "    print(f\"Filtered X_meteo shape ({window_size}): {filtered_data_all[window_size]['X_meteo'].shape}\")\n",
    "    print(f\"Filtered X_images shape ({window_size}): {filtered_data_all[window_size]['X_images'].shape}\")\n",
    "    print(f\"Filtered y shape ({window_size}): {filtered_data_all[window_size]['y'].shape}\")\n",
    "    print(f\"Filtered timestamps shape ({window_size}): {filtered_data_all[window_size]['timestamps'].shape}\")"
   ]
  },
  {
   "cell_type": "markdown",
   "id": "d190774f",
   "metadata": {},
   "source": [
    "# 4. Stratified Train-Test Splitting"
   ]
  },
  {
   "cell_type": "markdown",
   "id": "be076033",
   "metadata": {},
   "source": [
    "Now, let us perform a train, test and validation split on the data. But, we will not split the data randomly like we normally do.\n",
    "\n",
    "- We are going to perfomr <b>Stratified Splitting</b>.\n",
    "    - <b> What is Stratified Splitting of Data?</b>  \n",
    "        A stratified split is a method of dividing data into training and testing (or validation) subsets while preserving the relative proportion of each class (or category) within the original dataset. This technique is commonly used in classification problems to ensure that all classes are fairly represented in both subsets.\n",
    "- <b>Create a Balanced Validation Set:</b> Where we make sure that every class in the validation set has an equal number of samples, avoiding class imbalance during evaluation.\n",
    "- <b>One Hot Encode Labels:</b> We convert both training and validation sets into one-hot encoded format.\n",
    "    - <b>What is One Hot Encoding?</b>\n",
    "         One-hot encoding is a technique used to represent categorical data as a binary matrix. Each category is converted into a unique vector with binary values (0 and 1), where only one element is set to 1 to indicate the presence of that category, and all other elements are set to 0."
   ]
  },
  {
   "cell_type": "code",
   "execution_count": 10,
   "id": "e19824eb-ca09-4f77-a1f6-8a13f1623f0c",
   "metadata": {},
   "outputs": [
    {
     "name": "stdout",
     "output_type": "stream",
     "text": [
      "\n",
      "Preparing stratified data split for 24-hour window.\n",
      "\n",
      "Class distribution in Train Set:\n",
      "  Class 0: 422 (1.35%)\n",
      "  Class 1: 1029 (3.29%)\n",
      "  Class 2: 783 (2.51%)\n",
      "  Class 3: 29019 (92.85%)\n",
      "\n",
      "Class distribution in Balanced Validation Set:\n",
      "  Class 0: 126 (25.00%)\n",
      "  Class 1: 126 (25.00%)\n",
      "  Class 2: 126 (25.00%)\n",
      "  Class 3: 126 (25.00%)\n",
      "\n",
      "Shapes for 24-hour window size:\n",
      "Train Meteo: (31253, 24, 14), \n",
      "Train Images: (31253, 8, 64, 64, 1), \n",
      "Train Labels: (31253, 4)\n",
      "Validation Meteo: (504, 24, 14), \n",
      "Validation Images: (504, 8, 64, 64, 1), \n",
      "Validation Labels: (504, 4)\n",
      "\n",
      "Preparing stratified data split for 48-hour window.\n",
      "\n",
      "Class distribution in Train Set:\n",
      "  Class 0: 421 (1.35%)\n",
      "  Class 1: 1027 (3.29%)\n",
      "  Class 2: 783 (2.51%)\n",
      "  Class 3: 28965 (92.85%)\n",
      "\n",
      "Class distribution in Balanced Validation Set:\n",
      "  Class 0: 126 (25.00%)\n",
      "  Class 1: 126 (25.00%)\n",
      "  Class 2: 126 (25.00%)\n",
      "  Class 3: 126 (25.00%)\n",
      "\n",
      "Shapes for 48-hour window size:\n",
      "Train Meteo: (31196, 48, 14), \n",
      "Train Images: (31196, 16, 64, 64, 1), \n",
      "Train Labels: (31196, 4)\n",
      "Validation Meteo: (504, 48, 14), \n",
      "Validation Images: (504, 16, 64, 64, 1), \n",
      "Validation Labels: (504, 4)\n",
      "\n",
      "Preparing stratified data split for 72-hour window.\n",
      "\n",
      "Class distribution in Train Set:\n",
      "  Class 0: 416 (1.34%)\n",
      "  Class 1: 1024 (3.29%)\n",
      "  Class 2: 780 (2.50%)\n",
      "  Class 3: 28918 (92.87%)\n",
      "\n",
      "Class distribution in Balanced Validation Set:\n",
      "  Class 0: 126 (25.00%)\n",
      "  Class 1: 126 (25.00%)\n",
      "  Class 2: 126 (25.00%)\n",
      "  Class 3: 126 (25.00%)\n",
      "\n",
      "Shapes for 72-hour window size:\n",
      "Train Meteo: (31138, 72, 14), \n",
      "Train Images: (31138, 24, 64, 64, 1), \n",
      "Train Labels: (31138, 4)\n",
      "Validation Meteo: (504, 72, 14), \n",
      "Validation Images: (504, 24, 64, 64, 1), \n",
      "Validation Labels: (504, 4)\n"
     ]
    }
   ],
   "source": [
    "from sklearn.model_selection import StratifiedShuffleSplit\n",
    "from tensorflow.keras.utils import to_categorical\n",
    "import numpy as np\n",
    "\n",
    "# Function to display class distributions\n",
    "def print_class_distribution(y, name):\n",
    "    unique, counts = np.unique(y, return_counts=True)\n",
    "    print(f\"\\nClass distribution in {name}:\")\n",
    "    for cls, count in zip(unique, counts):\n",
    "        print(f\"  Class {cls}: {count} ({count / len(y) * 100:.2f}%)\")\n",
    "\n",
    "# Function to split data and create balanced train/validation sets\n",
    "def prepare_data_stratified(data, classes, test_size=0.2, samples_per_class=126):\n",
    "    \"\"\"\n",
    "    Stratified split of data into train and validation sets with balanced validation classes.\n",
    "\n",
    "    Args:\n",
    "        data (dict): Filtered data for a specific window size.\n",
    "        classes (array): Unique classes in the dataset.\n",
    "        test_size (float): Proportion of data to use for validation.\n",
    "        samples_per_class (int): Number of samples per class for the balanced validation set.\n",
    "\n",
    "    Returns:\n",
    "        dict: Train and validation datasets for the window size.\n",
    "    \"\"\"\n",
    "    X_meteo = data['X_meteo']\n",
    "    X_images = data['X_images'].reshape(-1, images_per_window_dict[len(X_meteo[0])], 64, 64, 1)\n",
    "    y = data['y']\n",
    "    timestamps = data['timestamps']\n",
    "\n",
    "    # Stratified split into train and temp (temp will later be split into balanced validation)\n",
    "    sss = StratifiedShuffleSplit(n_splits=1, test_size=test_size, random_state=42)\n",
    "    for train_index, val_index in sss.split(X_meteo, y):\n",
    "        X_train_meteo, X_temp_meteo = X_meteo[train_index], X_meteo[val_index]\n",
    "        y_train, y_temp = y[train_index], y[val_index]\n",
    "        X_train_images, X_temp_images = X_images[train_index], X_images[val_index]\n",
    "        timestamps_train = timestamps[train_index]\n",
    "        timestamps_temp = timestamps[val_index]\n",
    "\n",
    "    # Create a balanced validation set with equal samples per class\n",
    "    balanced_val_indices = []\n",
    "    for c in classes:\n",
    "        class_indices = np.where(y_temp == c)[0]\n",
    "        if len(class_indices) < samples_per_class:\n",
    "            balanced_val_indices.extend(np.random.choice(class_indices, samples_per_class, replace=True))\n",
    "        else:\n",
    "            balanced_val_indices.extend(np.random.choice(class_indices, samples_per_class, replace=False))\n",
    "\n",
    "    # Prepare balanced validation data\n",
    "    X_val_balanced_meteo = X_temp_meteo[balanced_val_indices]\n",
    "    X_val_balanced_images = X_temp_images[balanced_val_indices]\n",
    "    y_val_balanced = y_temp[balanced_val_indices]\n",
    "    timestamps_val_balanced = timestamps_temp[balanced_val_indices]\n",
    "\n",
    "    # One-hot encode the labels for train and validation\n",
    "    y_train_onehot = to_categorical(y_train, num_classes=len(classes))\n",
    "    y_val_balanced_onehot = to_categorical(y_val_balanced, num_classes=len(classes))\n",
    "\n",
    "    # Print class distributions\n",
    "    print_class_distribution(y_train, \"Train Set\")\n",
    "    print_class_distribution(y_val_balanced, \"Balanced Validation Set\")\n",
    "\n",
    "    return {\n",
    "        'X_train_meteo': X_train_meteo,\n",
    "        'X_train_images': X_train_images,\n",
    "        'y_train': y_train_onehot,\n",
    "        'timestamps_train': timestamps_train,\n",
    "        'X_val_meteo': X_val_balanced_meteo,\n",
    "        'X_val_images': X_val_balanced_images,\n",
    "        'y_val': y_val_balanced_onehot,\n",
    "        'timestamps_val': timestamps_val_balanced,\n",
    "    }\n",
    "\n",
    "# Prepare train and validation data for all window sizes\n",
    "prepared_data_all = {}\n",
    "\n",
    "for window_size in [24, 48, 72]:\n",
    "    print(f\"\\nPreparing stratified data split for {window_size}-hour window.\")\n",
    "    classes = np.unique(filtered_data_all[window_size]['y'])\n",
    "    prepared_data_all[window_size] = prepare_data_stratified(filtered_data_all[window_size], classes)\n",
    "\n",
    "    # Print dataset shapes\n",
    "    print(f\"\\nShapes for {window_size}-hour window size:\")\n",
    "    print(f\"Train Meteo: {prepared_data_all[window_size]['X_train_meteo'].shape}, \")\n",
    "    print(f\"Train Images: {prepared_data_all[window_size]['X_train_images'].shape}, \")\n",
    "    print(f\"Train Labels: {prepared_data_all[window_size]['y_train'].shape}\")\n",
    "    print(f\"Validation Meteo: {prepared_data_all[window_size]['X_val_meteo'].shape}, \")\n",
    "    print(f\"Validation Images: {prepared_data_all[window_size]['X_val_images'].shape}, \")\n",
    "    print(f\"Validation Labels: {prepared_data_all[window_size]['y_val'].shape}\")\n"
   ]
  },
  {
   "cell_type": "markdown",
   "id": "d8a16fe1",
   "metadata": {},
   "source": [
    "## 5. Feature Importance"
   ]
  },
  {
   "cell_type": "markdown",
   "id": "6925efb5",
   "metadata": {},
   "source": [
    "- In order for us to analyze the meterological data, to predict outcomes, we can make the process more efficient by choosing the most important featurfes to predict the outcomes.\n",
    "- To do this, we’ll train a Random Forest model, which will help us evaluate how much each feature contributes to making accurate predictions.\n",
    "- As soon as that is done, we'll calculate average importance scores for each feature, sort them by relevance, and pick the top ones. This process will allow us to focus on the key factors driving predictions, making our analysis more streamlined and efficient."
   ]
  },
  {
   "cell_type": "markdown",
   "id": "85cb4584",
   "metadata": {},
   "source": [
    "<b>Helper Function: Compute Top Features</b>"
   ]
  },
  {
   "cell_type": "code",
   "execution_count": 11,
   "id": "45dba92b-3df9-4e4d-87b3-3714c8f9f1d6",
   "metadata": {},
   "outputs": [],
   "source": [
    "from sklearn.ensemble import RandomForestClassifier\n",
    "\n",
    "# Compute top features (meteorological data only) after filtering\n",
    "def compute_top_features_filtered(X_train_meteo, y_train, top_n=10):\n",
    "    # Flatten the meteorological data\n",
    "    X_flat = X_train_meteo.reshape(X_train_meteo.shape[0], -1)\n",
    "    \n",
    "    # Initialize and train the RandomForestClassifier\n",
    "    rf = RandomForestClassifier(n_estimators=100, random_state=42)\n",
    "    rf.fit(X_flat, y_train.argmax(axis=1))  # Convert one-hot to class indices\n",
    "    \n",
    "    # Get feature importances\n",
    "    feature_importance = rf.feature_importances_\n",
    "    \n",
    "    # Reshape importance to match original feature structure\n",
    "    reshaped_importance = feature_importance.reshape(X_train_meteo.shape[1], -1)\n",
    "    \n",
    "    # Aggregate importance across features\n",
    "    aggregated_importance = reshaped_importance.mean(axis=0)\n",
    "    \n",
    "    # Create a DataFrame for easier handling\n",
    "    importance_df = pd.DataFrame({\n",
    "        'Feature': [f\"Feature {i}\" for i in range(X_train_meteo.shape[2])],\n",
    "        'Importance': aggregated_importance\n",
    "    })\n",
    "    \n",
    "    # Sort features by importance\n",
    "    importance_df.sort_values(by='Importance', ascending=False, inplace=True)\n",
    "    \n",
    "    # Select top_n features\n",
    "    top_features = importance_df.head(top_n).index.tolist()\n",
    "    \n",
    "    return top_features"
   ]
  },
  {
   "cell_type": "markdown",
   "id": "b85f0db6",
   "metadata": {},
   "source": [
    "Now, we'll use the helper function we defined above, to do the following:\n",
    "- <b>Iterate over Window Sizes</b> (24, 48, and 72 hours)\n",
    "- <b>Identify Top Features:</b> Using the helper function to compute the top features, we compute the average feature importance, and select a number of top contenders to be the most important features.\n",
    "- <b>Reduce Meteorological Data: </b>We’ll filter the training and validation meteorological data, keeping only the identified top features. This reduction helps streamline the dataset without losing critical information."
   ]
  },
  {
   "cell_type": "code",
   "execution_count": 12,
   "id": "c52efc84-262d-4249-adaf-4a2c16b7d694",
   "metadata": {},
   "outputs": [
    {
     "name": "stderr",
     "output_type": "stream",
     "text": [
      "  0%|          | 0/3 [00:00<?, ?it/s]"
     ]
    },
    {
     "name": "stdout",
     "output_type": "stream",
     "text": [
      "\n",
      "Computing top features for window size: 24 hours\n"
     ]
    },
    {
     "name": "stderr",
     "output_type": "stream",
     "text": [
      " 33%|███▎      | 1/3 [00:45<01:31, 45.53s/it]"
     ]
    },
    {
     "name": "stdout",
     "output_type": "stream",
     "text": [
      "Top 10 Features for 24-hour Window (Filtered): [1, 11, 0, 2, 12, 10, 6, 4, 3, 7]\n",
      "Reduced Train Meteo Shape (24): (31253, 24, 10)\n",
      "Reduced Validation Meteo Shape (24): (504, 24, 10)\n",
      "\n",
      "Computing top features for window size: 48 hours\n"
     ]
    },
    {
     "name": "stderr",
     "output_type": "stream",
     "text": [
      " 67%|██████▋   | 2/3 [01:25<00:42, 42.23s/it]"
     ]
    },
    {
     "name": "stdout",
     "output_type": "stream",
     "text": [
      "Top 10 Features for 48-hour Window (Filtered): [1, 0, 12, 11, 2, 6, 10, 3, 4, 7]\n",
      "Reduced Train Meteo Shape (48): (31196, 48, 10)\n",
      "Reduced Validation Meteo Shape (48): (504, 48, 10)\n",
      "\n",
      "Computing top features for window size: 72 hours\n"
     ]
    },
    {
     "name": "stderr",
     "output_type": "stream",
     "text": [
      "100%|██████████| 3/3 [02:20<00:00, 46.82s/it]"
     ]
    },
    {
     "name": "stdout",
     "output_type": "stream",
     "text": [
      "Top 10 Features for 72-hour Window (Filtered): [1, 0, 12, 2, 11, 10, 6, 3, 4, 7]\n",
      "Reduced Train Meteo Shape (72): (31138, 72, 10)\n",
      "Reduced Validation Meteo Shape (72): (504, 72, 10)\n"
     ]
    },
    {
     "name": "stderr",
     "output_type": "stream",
     "text": [
      "\n"
     ]
    }
   ],
   "source": [
    "# Dictionary to store reduced data for all window sizes\n",
    "reduced_data_filtered_all = {}\n",
    "\n",
    "# Function to compute top features for all window sizes\n",
    "for window_size in tqdm([24, 48, 72]):\n",
    "    print(f\"\\nComputing top features for window size: {window_size} hours\")\n",
    "\n",
    "    # Extract train data for the current window size\n",
    "    X_train_meteo = prepared_data_all[window_size]['X_train_meteo']\n",
    "    y_train = prepared_data_all[window_size]['y_train']\n",
    "    \n",
    "    # Compute top features\n",
    "    top_features_filtered = compute_top_features_filtered(\n",
    "        X_train_meteo,\n",
    "        y_train,\n",
    "        top_n=10\n",
    "    )\n",
    "    print(f\"Top 10 Features for {window_size}-hour Window (Filtered): {top_features_filtered}\")\n",
    "\n",
    "    # Reduce meteorological data to the top features\n",
    "    X_train_meteo_reduced = X_train_meteo[:, :, top_features_filtered]\n",
    "    X_val_meteo_reduced = prepared_data_all[window_size]['X_val_meteo'][:, :, top_features_filtered]\n",
    "\n",
    "    # Store reduced data for the current window size\n",
    "    reduced_data_filtered_all[window_size] = {\n",
    "        'X_train_meteo': X_train_meteo_reduced,\n",
    "        'X_train_images': prepared_data_all[window_size]['X_train_images'],\n",
    "        'y_train': prepared_data_all[window_size]['y_train'],\n",
    "        'timestamps_train': prepared_data_all[window_size]['timestamps_train'],\n",
    "        'X_val_meteo': X_val_meteo_reduced,\n",
    "        'X_val_images': prepared_data_all[window_size]['X_val_images'],\n",
    "        'y_val': prepared_data_all[window_size]['y_val'],\n",
    "        'timestamps_val': prepared_data_all[window_size]['timestamps_val'],\n",
    "    }\n",
    "\n",
    "    # Print reduced shapes\n",
    "    print(f\"Reduced Train Meteo Shape ({window_size}): {X_train_meteo_reduced.shape}\")\n",
    "    print(f\"Reduced Validation Meteo Shape ({window_size}): {X_val_meteo_reduced.shape}\")"
   ]
  },
  {
   "cell_type": "markdown",
   "id": "765e1150",
   "metadata": {},
   "source": [
    "**Visualizing the Most Important Features**\n",
    "\n",
    "We'll now visualize the first few samples of the filtered and reduced data for the selected window size (e.g., 24 hours). So that we get a chance to examine the structure and content of the meteorological data, associated satellite images, and target labels to ensure everything is properly aligned and formatted for training.\n",
    "\n"
   ]
  },
  {
   "cell_type": "code",
   "execution_count": 13,
   "id": "cc3685ff-c90c-4c18-99ec-d0215205a384",
   "metadata": {},
   "outputs": [],
   "source": [
    "def display_first_n_samples(reduced_data, window_size=24, num_samples=20):\n",
    "    \"\"\"\n",
    "    Display the first n samples of the filtered and reduced data, \n",
    "    showing meteorological data, associated images with timestamps, and target labels.\n",
    "    \n",
    "    Args:\n",
    "        reduced_data (dict): Contains 'X_train_meteo', 'X_train_images', 'y_train', 'timestamps_train', \n",
    "                             'X_val_meteo', 'X_val_images', 'y_val', 'timestamps_val' for each window size.\n",
    "        window_size (int): Size of the window (24, 48, 72 hours).\n",
    "        num_samples (int): Number of samples to display.\n",
    "    \"\"\"\n",
    "    # Extract training data\n",
    "    X_meteo = reduced_data[window_size]['X_train_meteo']\n",
    "    X_images = reduced_data[window_size]['X_train_images']\n",
    "    y = reduced_data[window_size]['y_train']\n",
    "    timestamps = reduced_data[window_size]['timestamps_train']\n",
    "    \n",
    "    # Convert one-hot labels to class indices\n",
    "    y_labels = np.argmax(y, axis=1)\n",
    "    \n",
    "    # Define feature column names for meteorological data\n",
    "    top_features = [\n",
    "        f\"Feature {i}\" for i in range(X_meteo.shape[2])\n",
    "    ]  # Adjusted to match the reduced features\n",
    "    \n",
    "    # Define class names based on unique classes\n",
    "    num_classes = y.shape[1]\n",
    "    class_names = [f\"Class {i}\" for i in range(num_classes)]\n",
    "    \n",
    "    for i in range(min(num_samples, len(X_meteo))):\n",
    "        print(f\"\\n=== Sample {i+1} ===\")\n",
    "        print(f\"Target (y): {class_names[y_labels[i]]}\")\n",
    "        print(\"Meteorological Data:\")\n",
    "        \n",
    "        # Create a DataFrame for meteorological data\n",
    "        meteo_df = pd.DataFrame(X_meteo[i], columns=top_features)\n",
    "        display(meteo_df)\n",
    "        \n",
    "        # Plot images with timestamps\n",
    "        images = X_images[i]  # Shape: (num_images, 64, 64, 1)\n",
    "        num_images = images.shape[0]\n",
    "        \n",
    "        # Create a figure with subplots\n",
    "        fig, axes = plt.subplots(1, num_images, figsize=(20, 3))\n",
    "        fig.suptitle(f\"Sample {i+1} Images ({window_size}-hour Window)\", fontsize=16)\n",
    "        \n",
    "        for j in range(num_images):\n",
    "            img = images[j].reshape(64, 64)  # Reshape image\n",
    "            ax = axes[j]\n",
    "            ax.imshow(img, cmap='gray')\n",
    "            ax.axis('off')\n",
    "            # Get corresponding timestamp\n",
    "            ts = timestamps[i][j] if j < len(timestamps[i]) else \"No Image\"\n",
    "            ax.set_title(ts if ts != \"No Image\" else \"Placeholder\")\n",
    "        \n",
    "        plt.tight_layout()\n",
    "        plt.show()"
   ]
  },
  {
   "cell_type": "code",
   "execution_count": 14,
   "id": "d9e6107c-9203-455f-b740-b1dceae2b6e6",
   "metadata": {
    "collapsed": true,
    "jupyter": {
     "outputs_hidden": true
    },
    "tags": []
   },
   "outputs": [],
   "source": [
    "# # Display the first 20 samples for the 24-hour window\n",
    "# display_first_n_samples(reduced_data_filtered_all, window_size=24, num_samples=20)"
   ]
  },
  {
   "cell_type": "code",
   "execution_count": 15,
   "id": "3fb16c32",
   "metadata": {},
   "outputs": [],
   "source": [
    "# from tensorflow.keras.models import Model\n",
    "# from tensorflow.keras.layers import (\n",
    "#     Input, ConvLSTM2D, LSTM, Dense, Dropout, BatchNormalization, Flatten, Add, Concatenate,\n",
    "#     TimeDistributed, GlobalAveragePooling1D, GlobalMaxPooling1D, Attention\n",
    "# )\n",
    "# from tensorflow.keras.optimizers import Adam\n",
    "# from tensorflow.keras.regularizers import l2\n",
    "\n",
    "# # Define the hybrid model\n",
    "# def hybrid_model_optimized(num_classes):\n",
    "#     # Input for meteorological data\n",
    "#     meteo_input = Input(shape=(24, 10), name=\"meteo_input\")\n",
    "\n",
    "#     # Input for cloud images\n",
    "#     cloud_input = Input(shape=(8, 64, 64, 1), name=\"cloud_input\")\n",
    "\n",
    "#     # --- Meteorological Data Processing ---\n",
    "#     def feature_extractor_meteo(input_layer):\n",
    "# #         x = Bidirectional(LSTM(128, return_sequences=True))(input_layer)\n",
    "# #         x = BatchNormalization()(x)\n",
    "# #         x = Dropout(0.25)(x)\n",
    "# #         residual = x\n",
    "\n",
    "# #         x = Bidirectional(LSTM(64, return_sequences=True))(x)\n",
    "# #         x = BatchNormalization()(x)\n",
    "# #         x = Dropout(0.25)(x)\n",
    "\n",
    "# #         # Residual connection\n",
    "# #         x = Add()([x, Dense(128)(residual)])\n",
    "\n",
    "# #         # Attention mechanism\n",
    "# #         attention = Attention()([x, x])\n",
    "# #         avg_pool = GlobalAveragePooling1D()(attention)\n",
    "# #         max_pool = GlobalMaxPooling1D()(attention)\n",
    "\n",
    "# #         return Concatenate()([avg_pool, max_pool])\n",
    "    \n",
    "#     # LSTM Encoder for Meteorological Data\n",
    "#         x = LSTM(128, return_sequences=True)(input_layer)\n",
    "#         x = Dropout(0.25)(x)\n",
    "#         x = LSTM(64, return_sequences=True)(x)\n",
    "#         x = Dropout(0.25)(x)\n",
    "#         x = LSTM(64, return_sequences=False)(x)\n",
    "#         x = BatchNormalization()(x)\n",
    "#         return x\n",
    "\n",
    "#     meteo_features = feature_extractor_meteo(meteo_input)\n",
    "\n",
    "#     # --- Cloud Image Processing ---\n",
    "#     def feature_extractor_images(input_layer):\n",
    "#         # Lightweight ConvLSTM\n",
    "#         x = ConvLSTM2D(filters=16, kernel_size=(3, 3), padding='same', return_sequences=True)(input_layer)\n",
    "#         x = Dropout(0.1)(x)\n",
    "\n",
    "#         x = ConvLSTM2D(filters=32, kernel_size=(3, 3), padding='same', return_sequences=False)(x)\n",
    "#         x = Dropout(0.1)(x)\n",
    "\n",
    "#         # Flatten and return\n",
    "#         return Flatten()(x)\n",
    "\n",
    "#     cloud_features = feature_extractor_images(cloud_input)\n",
    "\n",
    "#     # --- Combine Features ---\n",
    "#     combined_features = Concatenate()([meteo_features, cloud_features])\n",
    "\n",
    "#     # --- Fully Connected Decoder ---\n",
    "#     decoder_1 = Dense(256, activation='relu', kernel_regularizer=l2(1e-4))(combined_features)\n",
    "#     decoder_1 = Dropout(0.2)(decoder_1)\n",
    "\n",
    "#     decoder_2 = Dense(64, activation='relu', kernel_regularizer=l2(1e-4))(decoder_1)\n",
    "#     decoder_2 = Dropout(0.2)(decoder_2)\n",
    "\n",
    "#     # Output Layer\n",
    "#     output = Dense(num_classes, activation='softmax', name=\"output\")(decoder_2)\n",
    "\n",
    "#     # Define Model\n",
    "#     model = Model(inputs=[cloud_input, meteo_input], outputs=output)\n",
    "\n",
    "#     return model\n",
    "\n",
    "# # Instantiate Model\n",
    "# num_classes = reduced_data_filtered_all[24]['y_train'].shape[1]\n",
    "# model_optimized = hybrid_model_optimized(num_classes)\n",
    "\n",
    "# # Compile Model\n",
    "# new_learning_rate = 0.0001\n",
    "# optimizer = Adam(learning_rate=new_learning_rate)\n",
    "# model_optimized.compile(optimizer=optimizer, loss='categorical_crossentropy', metrics=['accuracy'])\n",
    "\n",
    "# # Display Model Summary\n",
    "# model_optimized.summary()"
   ]
  },
  {
   "cell_type": "markdown",
   "id": "6afa7a3e",
   "metadata": {},
   "source": [
    "# 6. Model Building"
   ]
  },
  {
   "cell_type": "markdown",
   "id": "f48dfb3c",
   "metadata": {},
   "source": [
    "Finally, Let's get to the most interesting part of this notebook, building our very own modelfor the 24-Hour Window with an Hybrid Architecture. But, before we go into it, we need to perform a few steps. Starting with:"
   ]
  },
  {
   "cell_type": "markdown",
   "id": "2d14e8a6",
   "metadata": {},
   "source": [
    "## 6.1 Model Architecture\n",
    "\n",
    "Now, let's get to the most interesting part of this milestone: model building.\n",
    "Since our objective is to predict outcomes based on both meteorological and satellite image data, we are building a **Hybrid Model** that efficiently integrates spatiotemporal data into a unified architecture. Here's how we approach the design:\n",
    "\n",
    "---\n",
    "\n",
    "### **Key Components of the Model**\n",
    "\n",
    "#### **Input Layers**\n",
    "- The model consists of **two input layers**:\n",
    "  - One for **meteorological data**: 24-hour time-series with 10 features.\n",
    "  - One for **cloud image sequences**: 8 images per sequence, each of size 64x64x1.\n",
    "\n",
    "---\n",
    "\n",
    "#### **Architecture**\n",
    "1. **ConvLSTM for Cloud Data**  \n",
    "   - Extracts spatial and temporal features from the satellite image sequences.\n",
    "   - Two **ConvLSTM2D** layers with dropout for regularization to capture spatiotemporal patterns.\n",
    "   - A **TimeDistributed Flatten layer** to reduce spatial dimensions, followed by an **LSTM layer** for summarizing temporal features.\n",
    "   - Batch normalization stabilizes the training process.\n",
    "\n",
    "2. **LSTM with Attention for Meteorological Data**  \n",
    "   - Two **LSTM layers** are used to process meteorological time-series data, with dropout to mitigate overfitting.\n",
    "   - An **attention mechanism** highlights the most critical time steps, improving the model's focus on key temporal patterns.\n",
    "   - A final **LSTM layer** summarizes the attention-weighted features into a fixed-size representation.\n",
    "   - Batch normalization is applied to maintain stability.\n",
    "\n",
    "3. **Feature Combination**  \n",
    "   - Features from both meteorological and cloud data streams are **concatenated** to create a unified representation.\n",
    "   - Dense layers refine these combined features, with additional dropout layers for regularization.\n",
    "\n",
    "---\n",
    "\n",
    "#### **Output Layer**\n",
    "- The model includes a **Dense layer** with a softmax activation function to classify data into the target categories.\n",
    "- It produces a **single prediction** for the input, tailored to the respective time window.\n",
    "\n",
    "---\n",
    "\n",
    "### **Implementation Details**\n",
    "- The model is compiled with the **Adam optimizer**, a learning rate of `0.0001`, and categorical crossentropy as the loss function.\n",
    "- Metrics include accuracy to evaluate performance.\n"
   ]
  },
  {
   "cell_type": "code",
   "execution_count": 16,
   "id": "fa4cbdbe-80c3-4afe-b146-1f2eca67fdd8",
   "metadata": {},
   "outputs": [
    {
     "data": {
      "text/html": [
       "<pre style=\"white-space:pre;overflow-x:auto;line-height:normal;font-family:Menlo,'DejaVu Sans Mono',consolas,'Courier New',monospace\"><span style=\"font-weight: bold\">Model: \"functional\"</span>\n",
       "</pre>\n"
      ],
      "text/plain": [
       "\u001b[1mModel: \"functional\"\u001b[0m\n"
      ]
     },
     "metadata": {},
     "output_type": "display_data"
    },
    {
     "data": {
      "text/html": [
       "<pre style=\"white-space:pre;overflow-x:auto;line-height:normal;font-family:Menlo,'DejaVu Sans Mono',consolas,'Courier New',monospace\">┏━━━━━━━━━━━━━━━━━━━━━┳━━━━━━━━━━━━━━━━━━━┳━━━━━━━━━━━━┳━━━━━━━━━━━━━━━━━━━┓\n",
       "┃<span style=\"font-weight: bold\"> Layer (type)        </span>┃<span style=\"font-weight: bold\"> Output Shape      </span>┃<span style=\"font-weight: bold\">    Param # </span>┃<span style=\"font-weight: bold\"> Connected to      </span>┃\n",
       "┡━━━━━━━━━━━━━━━━━━━━━╇━━━━━━━━━━━━━━━━━━━╇━━━━━━━━━━━━╇━━━━━━━━━━━━━━━━━━━┩\n",
       "│ meteo_input         │ (<span style=\"color: #00d7ff; text-decoration-color: #00d7ff\">None</span>, <span style=\"color: #00af00; text-decoration-color: #00af00\">24</span>, <span style=\"color: #00af00; text-decoration-color: #00af00\">10</span>)    │          <span style=\"color: #00af00; text-decoration-color: #00af00\">0</span> │ -                 │\n",
       "│ (<span style=\"color: #0087ff; text-decoration-color: #0087ff\">InputLayer</span>)        │                   │            │                   │\n",
       "├─────────────────────┼───────────────────┼────────────┼───────────────────┤\n",
       "│ cloud_input         │ (<span style=\"color: #00d7ff; text-decoration-color: #00d7ff\">None</span>, <span style=\"color: #00af00; text-decoration-color: #00af00\">8</span>, <span style=\"color: #00af00; text-decoration-color: #00af00\">64</span>, <span style=\"color: #00af00; text-decoration-color: #00af00\">64</span>, │          <span style=\"color: #00af00; text-decoration-color: #00af00\">0</span> │ -                 │\n",
       "│ (<span style=\"color: #0087ff; text-decoration-color: #0087ff\">InputLayer</span>)        │ <span style=\"color: #00af00; text-decoration-color: #00af00\">1</span>)                │            │                   │\n",
       "├─────────────────────┼───────────────────┼────────────┼───────────────────┤\n",
       "│ lstm_1 (<span style=\"color: #0087ff; text-decoration-color: #0087ff\">LSTM</span>)       │ (<span style=\"color: #00d7ff; text-decoration-color: #00d7ff\">None</span>, <span style=\"color: #00af00; text-decoration-color: #00af00\">24</span>, <span style=\"color: #00af00; text-decoration-color: #00af00\">128</span>)   │     <span style=\"color: #00af00; text-decoration-color: #00af00\">71,168</span> │ meteo_input[<span style=\"color: #00af00; text-decoration-color: #00af00\">0</span>][<span style=\"color: #00af00; text-decoration-color: #00af00\">0</span>] │\n",
       "├─────────────────────┼───────────────────┼────────────┼───────────────────┤\n",
       "│ conv_lstm2d         │ (<span style=\"color: #00d7ff; text-decoration-color: #00d7ff\">None</span>, <span style=\"color: #00af00; text-decoration-color: #00af00\">8</span>, <span style=\"color: #00af00; text-decoration-color: #00af00\">64</span>, <span style=\"color: #00af00; text-decoration-color: #00af00\">64</span>, │      <span style=\"color: #00af00; text-decoration-color: #00af00\">2,624</span> │ cloud_input[<span style=\"color: #00af00; text-decoration-color: #00af00\">0</span>][<span style=\"color: #00af00; text-decoration-color: #00af00\">0</span>] │\n",
       "│ (<span style=\"color: #0087ff; text-decoration-color: #0087ff\">ConvLSTM2D</span>)        │ <span style=\"color: #00af00; text-decoration-color: #00af00\">8</span>)                │            │                   │\n",
       "├─────────────────────┼───────────────────┼────────────┼───────────────────┤\n",
       "│ dropout_2 (<span style=\"color: #0087ff; text-decoration-color: #0087ff\">Dropout</span>) │ (<span style=\"color: #00d7ff; text-decoration-color: #00d7ff\">None</span>, <span style=\"color: #00af00; text-decoration-color: #00af00\">24</span>, <span style=\"color: #00af00; text-decoration-color: #00af00\">128</span>)   │          <span style=\"color: #00af00; text-decoration-color: #00af00\">0</span> │ lstm_1[<span style=\"color: #00af00; text-decoration-color: #00af00\">0</span>][<span style=\"color: #00af00; text-decoration-color: #00af00\">0</span>]      │\n",
       "├─────────────────────┼───────────────────┼────────────┼───────────────────┤\n",
       "│ dropout (<span style=\"color: #0087ff; text-decoration-color: #0087ff\">Dropout</span>)   │ (<span style=\"color: #00d7ff; text-decoration-color: #00d7ff\">None</span>, <span style=\"color: #00af00; text-decoration-color: #00af00\">8</span>, <span style=\"color: #00af00; text-decoration-color: #00af00\">64</span>, <span style=\"color: #00af00; text-decoration-color: #00af00\">64</span>, │          <span style=\"color: #00af00; text-decoration-color: #00af00\">0</span> │ conv_lstm2d[<span style=\"color: #00af00; text-decoration-color: #00af00\">0</span>][<span style=\"color: #00af00; text-decoration-color: #00af00\">0</span>] │\n",
       "│                     │ <span style=\"color: #00af00; text-decoration-color: #00af00\">8</span>)                │            │                   │\n",
       "├─────────────────────┼───────────────────┼────────────┼───────────────────┤\n",
       "│ lstm_2 (<span style=\"color: #0087ff; text-decoration-color: #0087ff\">LSTM</span>)       │ (<span style=\"color: #00d7ff; text-decoration-color: #00d7ff\">None</span>, <span style=\"color: #00af00; text-decoration-color: #00af00\">24</span>, <span style=\"color: #00af00; text-decoration-color: #00af00\">64</span>)    │     <span style=\"color: #00af00; text-decoration-color: #00af00\">49,408</span> │ dropout_2[<span style=\"color: #00af00; text-decoration-color: #00af00\">0</span>][<span style=\"color: #00af00; text-decoration-color: #00af00\">0</span>]   │\n",
       "├─────────────────────┼───────────────────┼────────────┼───────────────────┤\n",
       "│ conv_lstm2d_1       │ (<span style=\"color: #00d7ff; text-decoration-color: #00d7ff\">None</span>, <span style=\"color: #00af00; text-decoration-color: #00af00\">8</span>, <span style=\"color: #00af00; text-decoration-color: #00af00\">64</span>, <span style=\"color: #00af00; text-decoration-color: #00af00\">64</span>, │     <span style=\"color: #00af00; text-decoration-color: #00af00\">13,888</span> │ dropout[<span style=\"color: #00af00; text-decoration-color: #00af00\">0</span>][<span style=\"color: #00af00; text-decoration-color: #00af00\">0</span>]     │\n",
       "│ (<span style=\"color: #0087ff; text-decoration-color: #0087ff\">ConvLSTM2D</span>)        │ <span style=\"color: #00af00; text-decoration-color: #00af00\">16</span>)               │            │                   │\n",
       "├─────────────────────┼───────────────────┼────────────┼───────────────────┤\n",
       "│ dropout_3 (<span style=\"color: #0087ff; text-decoration-color: #0087ff\">Dropout</span>) │ (<span style=\"color: #00d7ff; text-decoration-color: #00d7ff\">None</span>, <span style=\"color: #00af00; text-decoration-color: #00af00\">24</span>, <span style=\"color: #00af00; text-decoration-color: #00af00\">64</span>)    │          <span style=\"color: #00af00; text-decoration-color: #00af00\">0</span> │ lstm_2[<span style=\"color: #00af00; text-decoration-color: #00af00\">0</span>][<span style=\"color: #00af00; text-decoration-color: #00af00\">0</span>]      │\n",
       "├─────────────────────┼───────────────────┼────────────┼───────────────────┤\n",
       "│ dropout_1 (<span style=\"color: #0087ff; text-decoration-color: #0087ff\">Dropout</span>) │ (<span style=\"color: #00d7ff; text-decoration-color: #00d7ff\">None</span>, <span style=\"color: #00af00; text-decoration-color: #00af00\">8</span>, <span style=\"color: #00af00; text-decoration-color: #00af00\">64</span>, <span style=\"color: #00af00; text-decoration-color: #00af00\">64</span>, │          <span style=\"color: #00af00; text-decoration-color: #00af00\">0</span> │ conv_lstm2d_1[<span style=\"color: #00af00; text-decoration-color: #00af00\">0</span>]… │\n",
       "│                     │ <span style=\"color: #00af00; text-decoration-color: #00af00\">16</span>)               │            │                   │\n",
       "├─────────────────────┼───────────────────┼────────────┼───────────────────┤\n",
       "│ attention           │ (<span style=\"color: #00d7ff; text-decoration-color: #00d7ff\">None</span>, <span style=\"color: #00af00; text-decoration-color: #00af00\">24</span>, <span style=\"color: #00af00; text-decoration-color: #00af00\">64</span>)    │          <span style=\"color: #00af00; text-decoration-color: #00af00\">0</span> │ dropout_3[<span style=\"color: #00af00; text-decoration-color: #00af00\">0</span>][<span style=\"color: #00af00; text-decoration-color: #00af00\">0</span>],  │\n",
       "│ (<span style=\"color: #0087ff; text-decoration-color: #0087ff\">Attention</span>)         │                   │            │ dropout_3[<span style=\"color: #00af00; text-decoration-color: #00af00\">0</span>][<span style=\"color: #00af00; text-decoration-color: #00af00\">0</span>]   │\n",
       "├─────────────────────┼───────────────────┼────────────┼───────────────────┤\n",
       "│ time_distributed    │ (<span style=\"color: #00d7ff; text-decoration-color: #00d7ff\">None</span>, <span style=\"color: #00af00; text-decoration-color: #00af00\">8</span>, <span style=\"color: #00af00; text-decoration-color: #00af00\">65536</span>)  │          <span style=\"color: #00af00; text-decoration-color: #00af00\">0</span> │ dropout_1[<span style=\"color: #00af00; text-decoration-color: #00af00\">0</span>][<span style=\"color: #00af00; text-decoration-color: #00af00\">0</span>]   │\n",
       "│ (<span style=\"color: #0087ff; text-decoration-color: #0087ff\">TimeDistributed</span>)   │                   │            │                   │\n",
       "├─────────────────────┼───────────────────┼────────────┼───────────────────┤\n",
       "│ lstm_3 (<span style=\"color: #0087ff; text-decoration-color: #0087ff\">LSTM</span>)       │ (<span style=\"color: #00d7ff; text-decoration-color: #00d7ff\">None</span>, <span style=\"color: #00af00; text-decoration-color: #00af00\">64</span>)        │     <span style=\"color: #00af00; text-decoration-color: #00af00\">33,024</span> │ attention[<span style=\"color: #00af00; text-decoration-color: #00af00\">0</span>][<span style=\"color: #00af00; text-decoration-color: #00af00\">0</span>]   │\n",
       "├─────────────────────┼───────────────────┼────────────┼───────────────────┤\n",
       "│ lstm (<span style=\"color: #0087ff; text-decoration-color: #0087ff\">LSTM</span>)         │ (<span style=\"color: #00d7ff; text-decoration-color: #00d7ff\">None</span>, <span style=\"color: #00af00; text-decoration-color: #00af00\">64</span>)        │ <span style=\"color: #00af00; text-decoration-color: #00af00\">16,793,856</span> │ time_distributed… │\n",
       "├─────────────────────┼───────────────────┼────────────┼───────────────────┤\n",
       "│ batch_normalizatio… │ (<span style=\"color: #00d7ff; text-decoration-color: #00d7ff\">None</span>, <span style=\"color: #00af00; text-decoration-color: #00af00\">64</span>)        │        <span style=\"color: #00af00; text-decoration-color: #00af00\">256</span> │ lstm_3[<span style=\"color: #00af00; text-decoration-color: #00af00\">0</span>][<span style=\"color: #00af00; text-decoration-color: #00af00\">0</span>]      │\n",
       "│ (<span style=\"color: #0087ff; text-decoration-color: #0087ff\">BatchNormalizatio…</span> │                   │            │                   │\n",
       "├─────────────────────┼───────────────────┼────────────┼───────────────────┤\n",
       "│ batch_normalization │ (<span style=\"color: #00d7ff; text-decoration-color: #00d7ff\">None</span>, <span style=\"color: #00af00; text-decoration-color: #00af00\">64</span>)        │        <span style=\"color: #00af00; text-decoration-color: #00af00\">256</span> │ lstm[<span style=\"color: #00af00; text-decoration-color: #00af00\">0</span>][<span style=\"color: #00af00; text-decoration-color: #00af00\">0</span>]        │\n",
       "│ (<span style=\"color: #0087ff; text-decoration-color: #0087ff\">BatchNormalizatio…</span> │                   │            │                   │\n",
       "├─────────────────────┼───────────────────┼────────────┼───────────────────┤\n",
       "│ concatenate         │ (<span style=\"color: #00d7ff; text-decoration-color: #00d7ff\">None</span>, <span style=\"color: #00af00; text-decoration-color: #00af00\">128</span>)       │          <span style=\"color: #00af00; text-decoration-color: #00af00\">0</span> │ batch_normalizat… │\n",
       "│ (<span style=\"color: #0087ff; text-decoration-color: #0087ff\">Concatenate</span>)       │                   │            │ batch_normalizat… │\n",
       "├─────────────────────┼───────────────────┼────────────┼───────────────────┤\n",
       "│ dense (<span style=\"color: #0087ff; text-decoration-color: #0087ff\">Dense</span>)       │ (<span style=\"color: #00d7ff; text-decoration-color: #00d7ff\">None</span>, <span style=\"color: #00af00; text-decoration-color: #00af00\">128</span>)       │     <span style=\"color: #00af00; text-decoration-color: #00af00\">16,512</span> │ concatenate[<span style=\"color: #00af00; text-decoration-color: #00af00\">0</span>][<span style=\"color: #00af00; text-decoration-color: #00af00\">0</span>] │\n",
       "├─────────────────────┼───────────────────┼────────────┼───────────────────┤\n",
       "│ dropout_4 (<span style=\"color: #0087ff; text-decoration-color: #0087ff\">Dropout</span>) │ (<span style=\"color: #00d7ff; text-decoration-color: #00d7ff\">None</span>, <span style=\"color: #00af00; text-decoration-color: #00af00\">128</span>)       │          <span style=\"color: #00af00; text-decoration-color: #00af00\">0</span> │ dense[<span style=\"color: #00af00; text-decoration-color: #00af00\">0</span>][<span style=\"color: #00af00; text-decoration-color: #00af00\">0</span>]       │\n",
       "├─────────────────────┼───────────────────┼────────────┼───────────────────┤\n",
       "│ dense_1 (<span style=\"color: #0087ff; text-decoration-color: #0087ff\">Dense</span>)     │ (<span style=\"color: #00d7ff; text-decoration-color: #00d7ff\">None</span>, <span style=\"color: #00af00; text-decoration-color: #00af00\">64</span>)        │      <span style=\"color: #00af00; text-decoration-color: #00af00\">8,256</span> │ dropout_4[<span style=\"color: #00af00; text-decoration-color: #00af00\">0</span>][<span style=\"color: #00af00; text-decoration-color: #00af00\">0</span>]   │\n",
       "├─────────────────────┼───────────────────┼────────────┼───────────────────┤\n",
       "│ dropout_5 (<span style=\"color: #0087ff; text-decoration-color: #0087ff\">Dropout</span>) │ (<span style=\"color: #00d7ff; text-decoration-color: #00d7ff\">None</span>, <span style=\"color: #00af00; text-decoration-color: #00af00\">64</span>)        │          <span style=\"color: #00af00; text-decoration-color: #00af00\">0</span> │ dense_1[<span style=\"color: #00af00; text-decoration-color: #00af00\">0</span>][<span style=\"color: #00af00; text-decoration-color: #00af00\">0</span>]     │\n",
       "├─────────────────────┼───────────────────┼────────────┼───────────────────┤\n",
       "│ output (<span style=\"color: #0087ff; text-decoration-color: #0087ff\">Dense</span>)      │ (<span style=\"color: #00d7ff; text-decoration-color: #00d7ff\">None</span>, <span style=\"color: #00af00; text-decoration-color: #00af00\">4</span>)         │        <span style=\"color: #00af00; text-decoration-color: #00af00\">260</span> │ dropout_5[<span style=\"color: #00af00; text-decoration-color: #00af00\">0</span>][<span style=\"color: #00af00; text-decoration-color: #00af00\">0</span>]   │\n",
       "└─────────────────────┴───────────────────┴────────────┴───────────────────┘\n",
       "</pre>\n"
      ],
      "text/plain": [
       "┏━━━━━━━━━━━━━━━━━━━━━┳━━━━━━━━━━━━━━━━━━━┳━━━━━━━━━━━━┳━━━━━━━━━━━━━━━━━━━┓\n",
       "┃\u001b[1m \u001b[0m\u001b[1mLayer (type)       \u001b[0m\u001b[1m \u001b[0m┃\u001b[1m \u001b[0m\u001b[1mOutput Shape     \u001b[0m\u001b[1m \u001b[0m┃\u001b[1m \u001b[0m\u001b[1m   Param #\u001b[0m\u001b[1m \u001b[0m┃\u001b[1m \u001b[0m\u001b[1mConnected to     \u001b[0m\u001b[1m \u001b[0m┃\n",
       "┡━━━━━━━━━━━━━━━━━━━━━╇━━━━━━━━━━━━━━━━━━━╇━━━━━━━━━━━━╇━━━━━━━━━━━━━━━━━━━┩\n",
       "│ meteo_input         │ (\u001b[38;5;45mNone\u001b[0m, \u001b[38;5;34m24\u001b[0m, \u001b[38;5;34m10\u001b[0m)    │          \u001b[38;5;34m0\u001b[0m │ -                 │\n",
       "│ (\u001b[38;5;33mInputLayer\u001b[0m)        │                   │            │                   │\n",
       "├─────────────────────┼───────────────────┼────────────┼───────────────────┤\n",
       "│ cloud_input         │ (\u001b[38;5;45mNone\u001b[0m, \u001b[38;5;34m8\u001b[0m, \u001b[38;5;34m64\u001b[0m, \u001b[38;5;34m64\u001b[0m, │          \u001b[38;5;34m0\u001b[0m │ -                 │\n",
       "│ (\u001b[38;5;33mInputLayer\u001b[0m)        │ \u001b[38;5;34m1\u001b[0m)                │            │                   │\n",
       "├─────────────────────┼───────────────────┼────────────┼───────────────────┤\n",
       "│ lstm_1 (\u001b[38;5;33mLSTM\u001b[0m)       │ (\u001b[38;5;45mNone\u001b[0m, \u001b[38;5;34m24\u001b[0m, \u001b[38;5;34m128\u001b[0m)   │     \u001b[38;5;34m71,168\u001b[0m │ meteo_input[\u001b[38;5;34m0\u001b[0m][\u001b[38;5;34m0\u001b[0m] │\n",
       "├─────────────────────┼───────────────────┼────────────┼───────────────────┤\n",
       "│ conv_lstm2d         │ (\u001b[38;5;45mNone\u001b[0m, \u001b[38;5;34m8\u001b[0m, \u001b[38;5;34m64\u001b[0m, \u001b[38;5;34m64\u001b[0m, │      \u001b[38;5;34m2,624\u001b[0m │ cloud_input[\u001b[38;5;34m0\u001b[0m][\u001b[38;5;34m0\u001b[0m] │\n",
       "│ (\u001b[38;5;33mConvLSTM2D\u001b[0m)        │ \u001b[38;5;34m8\u001b[0m)                │            │                   │\n",
       "├─────────────────────┼───────────────────┼────────────┼───────────────────┤\n",
       "│ dropout_2 (\u001b[38;5;33mDropout\u001b[0m) │ (\u001b[38;5;45mNone\u001b[0m, \u001b[38;5;34m24\u001b[0m, \u001b[38;5;34m128\u001b[0m)   │          \u001b[38;5;34m0\u001b[0m │ lstm_1[\u001b[38;5;34m0\u001b[0m][\u001b[38;5;34m0\u001b[0m]      │\n",
       "├─────────────────────┼───────────────────┼────────────┼───────────────────┤\n",
       "│ dropout (\u001b[38;5;33mDropout\u001b[0m)   │ (\u001b[38;5;45mNone\u001b[0m, \u001b[38;5;34m8\u001b[0m, \u001b[38;5;34m64\u001b[0m, \u001b[38;5;34m64\u001b[0m, │          \u001b[38;5;34m0\u001b[0m │ conv_lstm2d[\u001b[38;5;34m0\u001b[0m][\u001b[38;5;34m0\u001b[0m] │\n",
       "│                     │ \u001b[38;5;34m8\u001b[0m)                │            │                   │\n",
       "├─────────────────────┼───────────────────┼────────────┼───────────────────┤\n",
       "│ lstm_2 (\u001b[38;5;33mLSTM\u001b[0m)       │ (\u001b[38;5;45mNone\u001b[0m, \u001b[38;5;34m24\u001b[0m, \u001b[38;5;34m64\u001b[0m)    │     \u001b[38;5;34m49,408\u001b[0m │ dropout_2[\u001b[38;5;34m0\u001b[0m][\u001b[38;5;34m0\u001b[0m]   │\n",
       "├─────────────────────┼───────────────────┼────────────┼───────────────────┤\n",
       "│ conv_lstm2d_1       │ (\u001b[38;5;45mNone\u001b[0m, \u001b[38;5;34m8\u001b[0m, \u001b[38;5;34m64\u001b[0m, \u001b[38;5;34m64\u001b[0m, │     \u001b[38;5;34m13,888\u001b[0m │ dropout[\u001b[38;5;34m0\u001b[0m][\u001b[38;5;34m0\u001b[0m]     │\n",
       "│ (\u001b[38;5;33mConvLSTM2D\u001b[0m)        │ \u001b[38;5;34m16\u001b[0m)               │            │                   │\n",
       "├─────────────────────┼───────────────────┼────────────┼───────────────────┤\n",
       "│ dropout_3 (\u001b[38;5;33mDropout\u001b[0m) │ (\u001b[38;5;45mNone\u001b[0m, \u001b[38;5;34m24\u001b[0m, \u001b[38;5;34m64\u001b[0m)    │          \u001b[38;5;34m0\u001b[0m │ lstm_2[\u001b[38;5;34m0\u001b[0m][\u001b[38;5;34m0\u001b[0m]      │\n",
       "├─────────────────────┼───────────────────┼────────────┼───────────────────┤\n",
       "│ dropout_1 (\u001b[38;5;33mDropout\u001b[0m) │ (\u001b[38;5;45mNone\u001b[0m, \u001b[38;5;34m8\u001b[0m, \u001b[38;5;34m64\u001b[0m, \u001b[38;5;34m64\u001b[0m, │          \u001b[38;5;34m0\u001b[0m │ conv_lstm2d_1[\u001b[38;5;34m0\u001b[0m]… │\n",
       "│                     │ \u001b[38;5;34m16\u001b[0m)               │            │                   │\n",
       "├─────────────────────┼───────────────────┼────────────┼───────────────────┤\n",
       "│ attention           │ (\u001b[38;5;45mNone\u001b[0m, \u001b[38;5;34m24\u001b[0m, \u001b[38;5;34m64\u001b[0m)    │          \u001b[38;5;34m0\u001b[0m │ dropout_3[\u001b[38;5;34m0\u001b[0m][\u001b[38;5;34m0\u001b[0m],  │\n",
       "│ (\u001b[38;5;33mAttention\u001b[0m)         │                   │            │ dropout_3[\u001b[38;5;34m0\u001b[0m][\u001b[38;5;34m0\u001b[0m]   │\n",
       "├─────────────────────┼───────────────────┼────────────┼───────────────────┤\n",
       "│ time_distributed    │ (\u001b[38;5;45mNone\u001b[0m, \u001b[38;5;34m8\u001b[0m, \u001b[38;5;34m65536\u001b[0m)  │          \u001b[38;5;34m0\u001b[0m │ dropout_1[\u001b[38;5;34m0\u001b[0m][\u001b[38;5;34m0\u001b[0m]   │\n",
       "│ (\u001b[38;5;33mTimeDistributed\u001b[0m)   │                   │            │                   │\n",
       "├─────────────────────┼───────────────────┼────────────┼───────────────────┤\n",
       "│ lstm_3 (\u001b[38;5;33mLSTM\u001b[0m)       │ (\u001b[38;5;45mNone\u001b[0m, \u001b[38;5;34m64\u001b[0m)        │     \u001b[38;5;34m33,024\u001b[0m │ attention[\u001b[38;5;34m0\u001b[0m][\u001b[38;5;34m0\u001b[0m]   │\n",
       "├─────────────────────┼───────────────────┼────────────┼───────────────────┤\n",
       "│ lstm (\u001b[38;5;33mLSTM\u001b[0m)         │ (\u001b[38;5;45mNone\u001b[0m, \u001b[38;5;34m64\u001b[0m)        │ \u001b[38;5;34m16,793,856\u001b[0m │ time_distributed… │\n",
       "├─────────────────────┼───────────────────┼────────────┼───────────────────┤\n",
       "│ batch_normalizatio… │ (\u001b[38;5;45mNone\u001b[0m, \u001b[38;5;34m64\u001b[0m)        │        \u001b[38;5;34m256\u001b[0m │ lstm_3[\u001b[38;5;34m0\u001b[0m][\u001b[38;5;34m0\u001b[0m]      │\n",
       "│ (\u001b[38;5;33mBatchNormalizatio…\u001b[0m │                   │            │                   │\n",
       "├─────────────────────┼───────────────────┼────────────┼───────────────────┤\n",
       "│ batch_normalization │ (\u001b[38;5;45mNone\u001b[0m, \u001b[38;5;34m64\u001b[0m)        │        \u001b[38;5;34m256\u001b[0m │ lstm[\u001b[38;5;34m0\u001b[0m][\u001b[38;5;34m0\u001b[0m]        │\n",
       "│ (\u001b[38;5;33mBatchNormalizatio…\u001b[0m │                   │            │                   │\n",
       "├─────────────────────┼───────────────────┼────────────┼───────────────────┤\n",
       "│ concatenate         │ (\u001b[38;5;45mNone\u001b[0m, \u001b[38;5;34m128\u001b[0m)       │          \u001b[38;5;34m0\u001b[0m │ batch_normalizat… │\n",
       "│ (\u001b[38;5;33mConcatenate\u001b[0m)       │                   │            │ batch_normalizat… │\n",
       "├─────────────────────┼───────────────────┼────────────┼───────────────────┤\n",
       "│ dense (\u001b[38;5;33mDense\u001b[0m)       │ (\u001b[38;5;45mNone\u001b[0m, \u001b[38;5;34m128\u001b[0m)       │     \u001b[38;5;34m16,512\u001b[0m │ concatenate[\u001b[38;5;34m0\u001b[0m][\u001b[38;5;34m0\u001b[0m] │\n",
       "├─────────────────────┼───────────────────┼────────────┼───────────────────┤\n",
       "│ dropout_4 (\u001b[38;5;33mDropout\u001b[0m) │ (\u001b[38;5;45mNone\u001b[0m, \u001b[38;5;34m128\u001b[0m)       │          \u001b[38;5;34m0\u001b[0m │ dense[\u001b[38;5;34m0\u001b[0m][\u001b[38;5;34m0\u001b[0m]       │\n",
       "├─────────────────────┼───────────────────┼────────────┼───────────────────┤\n",
       "│ dense_1 (\u001b[38;5;33mDense\u001b[0m)     │ (\u001b[38;5;45mNone\u001b[0m, \u001b[38;5;34m64\u001b[0m)        │      \u001b[38;5;34m8,256\u001b[0m │ dropout_4[\u001b[38;5;34m0\u001b[0m][\u001b[38;5;34m0\u001b[0m]   │\n",
       "├─────────────────────┼───────────────────┼────────────┼───────────────────┤\n",
       "│ dropout_5 (\u001b[38;5;33mDropout\u001b[0m) │ (\u001b[38;5;45mNone\u001b[0m, \u001b[38;5;34m64\u001b[0m)        │          \u001b[38;5;34m0\u001b[0m │ dense_1[\u001b[38;5;34m0\u001b[0m][\u001b[38;5;34m0\u001b[0m]     │\n",
       "├─────────────────────┼───────────────────┼────────────┼───────────────────┤\n",
       "│ output (\u001b[38;5;33mDense\u001b[0m)      │ (\u001b[38;5;45mNone\u001b[0m, \u001b[38;5;34m4\u001b[0m)         │        \u001b[38;5;34m260\u001b[0m │ dropout_5[\u001b[38;5;34m0\u001b[0m][\u001b[38;5;34m0\u001b[0m]   │\n",
       "└─────────────────────┴───────────────────┴────────────┴───────────────────┘\n"
      ]
     },
     "metadata": {},
     "output_type": "display_data"
    },
    {
     "data": {
      "text/html": [
       "<pre style=\"white-space:pre;overflow-x:auto;line-height:normal;font-family:Menlo,'DejaVu Sans Mono',consolas,'Courier New',monospace\"><span style=\"font-weight: bold\"> Total params: </span><span style=\"color: #00af00; text-decoration-color: #00af00\">16,989,508</span> (64.81 MB)\n",
       "</pre>\n"
      ],
      "text/plain": [
       "\u001b[1m Total params: \u001b[0m\u001b[38;5;34m16,989,508\u001b[0m (64.81 MB)\n"
      ]
     },
     "metadata": {},
     "output_type": "display_data"
    },
    {
     "data": {
      "text/html": [
       "<pre style=\"white-space:pre;overflow-x:auto;line-height:normal;font-family:Menlo,'DejaVu Sans Mono',consolas,'Courier New',monospace\"><span style=\"font-weight: bold\"> Trainable params: </span><span style=\"color: #00af00; text-decoration-color: #00af00\">16,989,252</span> (64.81 MB)\n",
       "</pre>\n"
      ],
      "text/plain": [
       "\u001b[1m Trainable params: \u001b[0m\u001b[38;5;34m16,989,252\u001b[0m (64.81 MB)\n"
      ]
     },
     "metadata": {},
     "output_type": "display_data"
    },
    {
     "data": {
      "text/html": [
       "<pre style=\"white-space:pre;overflow-x:auto;line-height:normal;font-family:Menlo,'DejaVu Sans Mono',consolas,'Courier New',monospace\"><span style=\"font-weight: bold\"> Non-trainable params: </span><span style=\"color: #00af00; text-decoration-color: #00af00\">256</span> (1.00 KB)\n",
       "</pre>\n"
      ],
      "text/plain": [
       "\u001b[1m Non-trainable params: \u001b[0m\u001b[38;5;34m256\u001b[0m (1.00 KB)\n"
      ]
     },
     "metadata": {},
     "output_type": "display_data"
    }
   ],
   "source": [
    "from tensorflow.keras.models import Model\n",
    "from tensorflow.keras.layers import (\n",
    "    Input, ConvLSTM2D, LSTM, Dense, Dropout, BatchNormalization, Flatten, Add, Reshape, TimeDistributed, Attention, Concatenate\n",
    ")\n",
    "from tensorflow.keras.optimizers import Adam\n",
    "\n",
    "def hybrid_model_optimized(num_classes):\n",
    "    \"\"\"\n",
    "    Hybrid model combining ConvLSTM for cloud image sequences and LSTM for meteorological data.\n",
    "    \"\"\"\n",
    "    # Input for meteorological data\n",
    "    meteo_input = Input(shape=(24, 10), name=\"meteo_input\")\n",
    "\n",
    "    # Input for cloud image data\n",
    "    cloud_input = Input(shape=(8, 64, 64, 1), name=\"cloud_input\")\n",
    "\n",
    "    # --- ConvLSTM for Cloud Data ---\n",
    "    def feature_extractor_images(input_layer):\n",
    "        x = ConvLSTM2D(filters=8, kernel_size=(3, 3), padding='same', return_sequences=True)(input_layer)\n",
    "        x = Dropout(0.25)(x)\n",
    "\n",
    "        x = ConvLSTM2D(filters=16, kernel_size=(3, 3), padding='same', return_sequences=True)(x)\n",
    "        x = Dropout(0.25)(x)\n",
    "\n",
    "        x = TimeDistributed(Flatten())(x)\n",
    "        x = LSTM(64, return_sequences=False)(x)\n",
    "        x = BatchNormalization()(x)\n",
    "        return x\n",
    "\n",
    "    # --- LSTM with Attention for Meteorological Data ---\n",
    "    def feature_extractor_meteo(input_layer):\n",
    "        x = LSTM(128, return_sequences=True)(input_layer)\n",
    "        x = Dropout(0.25)(x)\n",
    "\n",
    "        x = LSTM(64, return_sequences=True)(x)\n",
    "        x = Dropout(0.25)(x)\n",
    "\n",
    "        # Adding attention over time steps\n",
    "        attention = Attention()([x, x])\n",
    "        x = LSTM(64, return_sequences=False)(attention)\n",
    "        x = BatchNormalization()(x)\n",
    "        return x\n",
    "\n",
    "    # Extract features from inputs\n",
    "    cloud_features = feature_extractor_images(cloud_input)\n",
    "    meteo_features = feature_extractor_meteo(meteo_input)\n",
    "\n",
    "    # --- Combine Features ---\n",
    "    combined_features = Concatenate()([meteo_features, cloud_features])\n",
    "\n",
    "    # --- Decoder Layers ---\n",
    "    x = Dense(128, activation='relu')(combined_features)\n",
    "    x = Dropout(0.25)(x)\n",
    "\n",
    "    x = Dense(64, activation='relu')(x)\n",
    "    x = Dropout(0.25)(x)\n",
    "\n",
    "    # Output layer\n",
    "    output = Dense(num_classes, activation='softmax', name=\"output\")(x)\n",
    "\n",
    "    # Define model\n",
    "    model = Model(inputs=[cloud_input, meteo_input], outputs=output)\n",
    "\n",
    "    return model\n",
    "\n",
    "# Instantiate the model\n",
    "num_classes = reduced_data_filtered_all[24]['y_train'].shape[1]\n",
    "model_optimized = hybrid_model_optimized(num_classes)\n",
    "\n",
    "# Compile the model\n",
    "optimizer = Adam(learning_rate=0.0001)\n",
    "model_optimized.compile(optimizer=optimizer, loss='categorical_crossentropy', metrics=['accuracy'])\n",
    "\n",
    "# Display model summary\n",
    "model_optimized.summary()"
   ]
  },
  {
   "cell_type": "code",
   "execution_count": 17,
   "id": "af1b7a09",
   "metadata": {},
   "outputs": [
    {
     "name": "stdout",
     "output_type": "stream",
     "text": [
      "Model's input names:\n",
      "cloud_input\n",
      "meteo_input\n"
     ]
    }
   ],
   "source": [
    "print(\"Model's input names:\")\n",
    "for input_tensor in model_optimized.inputs:\n",
    "    print(input_tensor.name)"
   ]
  },
  {
   "cell_type": "markdown",
   "id": "cea2d6d4",
   "metadata": {},
   "source": [
    "## 7. Defining Callbacks"
   ]
  },
  {
   "cell_type": "markdown",
   "id": "5de0fcdd",
   "metadata": {},
   "source": [
    "<b>ReduceLROnPlateau</b>: We will be using the ReduceLROnPlateau callback to dynamically adjust the learning rate while training our model. We will monitor the validation loss during each epoch, and if it stops improving for five consecutive epochs, we will reduce the learning rate by half.\n",
    "\n",
    "**ModelCheckpoint**\n",
    "To ensure that our training progress is saved, we will use the `ModelCheckpoint` callback. This callback will save the entire model (architecture + weights) to a specified filepath at regular intervals. To avoid excessive saving, we’ve customized this behavior using a `SaveEveryNEpochs` wrapper, which saves the model every 5 epochs.\n"
   ]
  },
  {
   "cell_type": "code",
   "execution_count": 18,
   "id": "c69f9d35-fb3a-46c0-a892-7a69e2630e61",
   "metadata": {},
   "outputs": [],
   "source": [
    "from tensorflow.keras.callbacks import Callback, ReduceLROnPlateau, ModelCheckpoint\n",
    "\n",
    "# Define the checkpoint filepath\n",
    "checkpoint_filepath = 'model_checkpoints/hybrid_model_lstm_24_window_epoch_{epoch:02d}.keras'\n",
    "\n",
    "# Custom callback to save every N epochs\n",
    "class SaveEveryNEpochs(Callback):\n",
    "    def __init__(self, save_callback, n_epochs=5):\n",
    "        super(SaveEveryNEpochs, self).__init__()\n",
    "        self.save_callback = save_callback\n",
    "        self.n_epochs = n_epochs\n",
    "\n",
    "    def set_model(self, model):\n",
    "        # Pass the model to the wrapped callback\n",
    "        self.save_callback.set_model(model)\n",
    "\n",
    "    def on_epoch_end(self, epoch, logs=None):\n",
    "        if (epoch + 1) % self.n_epochs == 0:  # Save every n epochs\n",
    "            self.save_callback.on_epoch_end(epoch, logs)\n",
    "\n",
    "# Create the ModelCheckpoint callback (will be wrapped in custom callback)\n",
    "base_checkpoint_callback = ModelCheckpoint(\n",
    "    filepath=checkpoint_filepath,\n",
    "    save_weights_only=False,  # Save the entire model (architecture + weights)\n",
    "    verbose=1\n",
    ")\n",
    "\n",
    "# Wrap the ModelCheckpoint callback to save every 5 epochs\n",
    "checkpoint_callback = SaveEveryNEpochs(base_checkpoint_callback, n_epochs=5)\n",
    "\n",
    "# Define ReduceLROnPlateau callback\n",
    "reduce_lr = ReduceLROnPlateau(\n",
    "    monitor=\"val_loss\",  # Monitor the validation loss\n",
    "    factor=0.5,          # Reduce the learning rate by half\n",
    "    patience=5,          # Number of epochs to wait before reducing\n",
    "    min_lr=1e-6,         # Minimum learning rate\n",
    "    verbose=1\n",
    ")"
   ]
  },
  {
   "cell_type": "code",
   "execution_count": 19,
   "id": "5d18d7b1-8bd4-47e3-a884-a7d62cd9b78c",
   "metadata": {},
   "outputs": [
    {
     "name": "stdout",
     "output_type": "stream",
     "text": [
      "Reduced 24-hour Training: (31253, 24, 10)\n",
      "Reduced 24-hour Validation: (504, 24, 10)\n",
      "Reduced 48-hour Training: (31196, 48, 10)\n",
      "Reduced 48-hour Validation: (504, 48, 10)\n",
      "Reduced 72-hour Training: (31138, 72, 10)\n",
      "Reduced 72-hour Validation: (504, 72, 10)\n"
     ]
    }
   ],
   "source": [
    "# Verify the reduced data shapes\n",
    "print(f\"Reduced 24-hour Training: {reduced_data_filtered_all[24]['X_train_meteo'].shape}\")\n",
    "print(f\"Reduced 24-hour Validation: {reduced_data_filtered_all[24]['X_val_meteo'].shape}\")\n",
    "print(f\"Reduced 48-hour Training: {reduced_data_filtered_all[48]['X_train_meteo'].shape}\")\n",
    "print(f\"Reduced 48-hour Validation: {reduced_data_filtered_all[48]['X_val_meteo'].shape}\")\n",
    "print(f\"Reduced 72-hour Training: {reduced_data_filtered_all[72]['X_train_meteo'].shape}\")\n",
    "print(f\"Reduced 72-hour Validation: {reduced_data_filtered_all[72]['X_val_meteo'].shape}\")"
   ]
  },
  {
   "cell_type": "code",
   "execution_count": 20,
   "id": "1c4fdca7-d2c7-407b-924b-9ad81db47937",
   "metadata": {},
   "outputs": [],
   "source": [
    "X_train_24, y_train_24 = reduced_data_filtered_all[24]['X_train_meteo'], reduced_data_filtered_all[24]['y_train']\n",
    "X_val_24, y_val_24 = reduced_data_filtered_all[24]['X_val_meteo'], reduced_data_filtered_all[24]['y_val']\n",
    "# Extract image data\n",
    "X_train_images_24 = reduced_data_filtered_all[24]['X_train_images']\n",
    "X_val_images_24 = reduced_data_filtered_all[24]['X_val_images']\n",
    "\n",
    "X_train_48, y_train_48 = reduced_data_filtered_all[48]['X_train_meteo'], reduced_data_filtered_all[48]['y_train']\n",
    "X_val_48, y_val_48 = reduced_data_filtered_all[48]['X_val_meteo'], reduced_data_filtered_all[48]['y_val']\n",
    "X_train_images_48 = reduced_data_filtered_all[48]['X_train_images']\n",
    "X_val_images_48 = reduced_data_filtered_all[48]['X_val_images']\n",
    "\n",
    "X_train_72, y_train_72 = reduced_data_filtered_all[72]['X_train_meteo'], reduced_data_filtered_all[72]['y_train']\n",
    "X_val_72, y_val_72 = reduced_data_filtered_all[72]['X_val_meteo'], reduced_data_filtered_all[72]['y_val']\n",
    "X_train_images_72 = reduced_data_filtered_all[72]['X_train_images']\n",
    "X_val_images_72 = reduced_data_filtered_all[72]['X_val_images']"
   ]
  },
  {
   "cell_type": "markdown",
   "id": "17143634",
   "metadata": {},
   "source": [
    "#### Adjusting Class Weights (Manual Class Weights)"
   ]
  },
  {
   "cell_type": "markdown",
   "id": "2cf2d794",
   "metadata": {},
   "source": [
    "Our dataset is highly biased, in every single window, out of the four classes that we have (No Rain, Little Rain, Medium Rain, and Heavy Rain), the dataset is heavily biased towards No Rain. And in order to do that, we'll use a concept called class weights.\n",
    "\n",
    "<b>What are class weights?</b>\n",
    "Class weights are a technique used in machine learning to address class imbalance in datasets. When some classes are underrepresented compared to others, a model may become biased towards the majority class. Class weights assign different importance (or weights) to each class during training, ensuring the model pays more attention to minority classes.\n",
    "\n",
    "For this model, we’ll be using manual class weights to address class imbalance in the training data. By assigning higher weights to minority classes and lower weights to majority classes, we ensure that the model pays more attention to underrepresented categories during training.\n",
    "\n",
    "Here are the weights we’ve assigned:\n",
    "\n",
    "- Class 0 (High Rain): 18.5\n",
    "- Class 1 (Less Rain): 12.0\n",
    "- Class 2 (Medium Rain): 13.0\n",
    "- Class 3 (No Rain): 0.3\n",
    "\n"
   ]
  },
  {
   "cell_type": "code",
   "execution_count": 21,
   "id": "e5917427",
   "metadata": {},
   "outputs": [
    {
     "data": {
      "text/plain": [
       "{np.int64(0): np.float64(18.514810426540283),\n",
       " np.int64(1): np.float64(7.5930515063168125),\n",
       " np.int64(2): np.float64(9.97860791826309),\n",
       " np.int64(3): np.float64(0.2692460112340191)}"
      ]
     },
     "execution_count": 21,
     "metadata": {},
     "output_type": "execute_result"
    }
   ],
   "source": [
    "from sklearn.utils.class_weight import compute_class_weight\n",
    "\n",
    "# Convert one-hot encoded labels to class indices\n",
    "y_train_24_int = np.argmax(y_train_24, axis=1)\n",
    "\n",
    "# Compute class weights\n",
    "classes = np.unique(y_train_24_int)\n",
    "class_weights_array = compute_class_weight(\n",
    "    class_weight='balanced',\n",
    "    classes=classes,\n",
    "    y=y_train_24_int\n",
    ")\n",
    "\n",
    "# Convert to dictionary\n",
    "class_weights_filtered_24 = dict(zip(classes, class_weights_array))\n",
    "class_weights_filtered_24"
   ]
  },
  {
   "cell_type": "code",
   "execution_count": 22,
   "id": "e33f0e6c",
   "metadata": {},
   "outputs": [
    {
     "name": "stdout",
     "output_type": "stream",
     "text": [
      "Manual Class Weights for 24-hour Training Data:\n",
      "{0: 18.5, 1: 12.0, 2: 13.0, 3: 0.3}\n"
     ]
    }
   ],
   "source": [
    "# Define manual class weights\n",
    "class_weights_manual_24 = {\n",
    "    0: 18.5, \n",
    "    1: 12.0,  \n",
    "    2: 13.0,  \n",
    "    3: 0.3   \n",
    "}\n",
    "\n",
    "# Print the manually set class weights\n",
    "print(\"Manual Class Weights for 24-hour Training Data:\")\n",
    "print(class_weights_manual_24)\n"
   ]
  },
  {
   "cell_type": "code",
   "execution_count": 23,
   "id": "b0a1ceb3-a506-4c82-a518-47ce27a80df9",
   "metadata": {},
   "outputs": [],
   "source": [
    "# # Define adjusted class weights\n",
    "# adjusted_class_weights_24 = [18.51481043, 10, 13, 0.26]\n",
    "\n",
    "# # Convert to dictionary if needed for indexing\n",
    "# adjusted_class_weights_dict = {i: w for i, w in enumerate(adjusted_class_weights_24)}\n",
    "# adjusted_class_weights_dict"
   ]
  },
  {
   "cell_type": "markdown",
   "id": "49a823db",
   "metadata": {},
   "source": [
    "## 8. Generating Hybrid Data"
   ]
  },
  {
   "cell_type": "markdown",
   "id": "e165933b",
   "metadata": {},
   "source": [
    "When working with hybrid models that integrate both meteorological time-series data and satellite image sequences, we designed a custom data generator to handle our data efficiently. This approach ensures that we can load data in batches, apply class balancing, and shuffle the data for better training performance.\n",
    "\n",
    "1. **Input Handling**\n",
    "   - We structured our generator to accept meteorological data, satellite image sequences, and target labels, ensuring compatibility with our hybrid model. By processing data in manageable batches, we optimize memory usage and facilitate seamless training.\n",
    "\n",
    "2. **Batch Construction**\n",
    "   - For each batch, we prepare meteorological inputs, image sequence inputs, and their corresponding target labels. Additionally, we include sample weights to address any class imbalance during training, allowing the model to focus more on underrepresented classes.\n",
    "\n",
    "3. **Dynamic Class Weighting**\n",
    "   - If the dataset has an imbalanced class distribution, our generator computes weights dynamically based on the labels in each batch. This ensures that all classes contribute meaningfully to the training process.\n",
    "\n",
    "4. **Data Shuffling**\n",
    "   - To improve generalization, we shuffle the data at the end of each epoch, ensuring the model sees a diverse mix of samples during training.\n",
    "\n",
    "The generator processes the data in batches, each containing a mix of meteorological and image data. For meteorological data, it extracts relevant features over time, while the image data is processed as sequences of grayscale images. The labels are provided as one-hot encoded vectors, and if needed, the generator computes class weights dynamically to balance the training process.\n",
    "\n",
    "At the end of each epoch, we shuffle the data indices, allowing the model to experience a fresh sequence of samples in the next epoch in order to prevent overfitting."
   ]
  },
  {
   "cell_type": "code",
   "execution_count": 24,
   "id": "7bc89d0f",
   "metadata": {},
   "outputs": [],
   "source": [
    "from tensorflow.keras.utils import Sequence\n",
    "\n",
    "class HybridDataGenerator(Sequence):\n",
    "    def __init__(self, X_meteo, X_images, y, batch_size, class_weights=None, shuffle=True):\n",
    "        \"\"\"\n",
    "        Data generator for hybrid models handling meteorological data and 64x64 grayscale images.\n",
    "\n",
    "        Args:\n",
    "            X_meteo (np.ndarray): Meteorological input data.\n",
    "            X_images (np.ndarray): Image input data (shape: (samples, sequence, 64, 64, 1)).\n",
    "            y (np.ndarray): One-hot encoded target labels.\n",
    "            batch_size (int): Batch size.\n",
    "            class_weights (dict, optional): Dictionary of class weights for sample weighting.\n",
    "            shuffle (bool, optional): Whether to shuffle data at the end of each epoch.\n",
    "        \"\"\"\n",
    "        self.X_meteo = X_meteo.astype(np.float32)\n",
    "        self.X_images = X_images.astype(np.float32)  # Ensure correct dtype\n",
    "        self.y = y.astype(np.float32)\n",
    "        self.batch_size = batch_size\n",
    "        self.class_weights = class_weights\n",
    "        self.shuffle = shuffle\n",
    "        self.indices = np.arange(len(self.X_meteo))\n",
    "        self.on_epoch_end()\n",
    "\n",
    "    def __len__(self):\n",
    "        \"\"\"\n",
    "        Number of batches per epoch.\n",
    "        \"\"\"\n",
    "        return int(np.ceil(len(self.X_meteo) / self.batch_size))\n",
    "\n",
    "    def __getitem__(self, idx):\n",
    "        \"\"\"\n",
    "        Generate one batch of data.\n",
    "\n",
    "        Args:\n",
    "            idx (int): Batch index.\n",
    "\n",
    "        Returns:\n",
    "            tuple: Batch of inputs, labels, and sample weights.\n",
    "        \"\"\"\n",
    "        start = idx * self.batch_size\n",
    "        end = min(start + self.batch_size, len(self.X_meteo))\n",
    "        batch_indices = self.indices[start:end]\n",
    "\n",
    "        batch_X_meteo = self.X_meteo[batch_indices]  # Meteorological data\n",
    "        batch_X_images = self.X_images[batch_indices]  # 64x64 image data\n",
    "        batch_y = self.y[batch_indices]  # Labels\n",
    "\n",
    "        # Compute sample weights (if class weights are provided)\n",
    "        if self.class_weights:\n",
    "            batch_sample_weights = np.array([\n",
    "                self.class_weights[np.argmax(label)] for label in batch_y\n",
    "            ])\n",
    "        else:\n",
    "            batch_sample_weights = np.ones(len(batch_y))  # Uniform weights if not provided\n",
    "\n",
    "        return {'meteo_input': batch_X_meteo, 'cloud_input': batch_X_images}, batch_y, batch_sample_weights\n",
    "\n",
    "    def on_epoch_end(self):\n",
    "        \"\"\"\n",
    "        Shuffle indices after each epoch if shuffle is enabled.\n",
    "        \"\"\"\n",
    "        if self.shuffle:\n",
    "            np.random.shuffle(self.indices)"
   ]
  },
  {
   "cell_type": "markdown",
   "id": "9e4dd4d9",
   "metadata": {},
   "source": [
    "Now, let us generate data using our hybrid data generator for the 24-Hour Window, with the manual weights."
   ]
  },
  {
   "cell_type": "code",
   "execution_count": 25,
   "id": "0c73c0fc",
   "metadata": {},
   "outputs": [],
   "source": [
    "# Instantiate the training generator\n",
    "train_generator = HybridDataGenerator(\n",
    "    X_train_24, X_train_images_24, y_train_24, 32,\n",
    "    class_weights=class_weights_manual_24, shuffle=True\n",
    ")\n",
    "\n",
    "# Instantiate the validation generator (unchanged)\n",
    "val_generator = HybridDataGenerator(\n",
    "    X_val_24, X_val_images_24, y_val_24, 32,\n",
    "    class_weights=None, shuffle=False  # class_weights can be None or omitted\n",
    ")"
   ]
  },
  {
   "cell_type": "code",
   "execution_count": 32,
   "id": "56cd8d71-1d5e-42f3-8075-b12ad97a688b",
   "metadata": {
    "collapsed": true,
    "jupyter": {
     "outputs_hidden": true
    },
    "tags": []
   },
   "outputs": [
    {
     "name": "stdout",
     "output_type": "stream",
     "text": [
      "\n",
      "=== Sample 1 ===\n",
      "Meteorological Data:\n",
      "[[ 7.7000e+01  1.0274e+03  2.0000e+01  1.4000e+01  1.0264e+03  1.0033e+03\n",
      "   1.6000e+03  3.5000e+02  9.0000e+00  0.0000e+00]\n",
      " [ 7.7000e+01  1.0278e+03  2.0000e+01  1.4000e+01  1.0268e+03  1.0036e+03\n",
      "   1.8000e+03  3.4000e+02  9.0000e+00  0.0000e+00]\n",
      " [ 7.4000e+01  1.0172e+03  2.2000e+01  1.5000e+01  1.0163e+03  9.9330e+02\n",
      "   2.1000e+03  4.0000e+01  1.3000e+01  0.0000e+00]\n",
      " [ 7.3000e+01  1.0177e+03  2.1000e+01  1.4000e+01  1.0166e+03  9.9370e+02\n",
      "   1.9000e+03  3.0000e+01  1.5000e+01  0.0000e+00]\n",
      " [ 7.7000e+01  1.0185e+03  2.0000e+01  1.4000e+01  1.0176e+03  9.9470e+02\n",
      "   1.7000e+03  3.6000e+02  1.1000e+01  0.0000e+00]\n",
      " [ 7.6000e+01  1.0191e+03  1.9000e+01  1.3000e+01  1.0179e+03  9.9500e+02\n",
      "   1.7000e+03  1.0000e+01  1.7000e+01  0.0000e+00]\n",
      " [ 8.0000e+01  1.0197e+03  1.9000e+01  1.4000e+01  1.0186e+03  9.9570e+02\n",
      "   1.5000e+03  2.0000e+01  1.5000e+01  0.0000e+00]\n",
      " [ 8.0000e+01  1.0200e+03  1.7000e+01  1.2000e+01  1.0190e+03  9.9600e+02\n",
      "   1.3000e+03  6.0000e+01  9.0000e+00  0.0000e+00]\n",
      " [ 8.3000e+01  1.0311e+03  7.0000e+00  3.0000e+00  1.0298e+03  1.0066e+03\n",
      "   2.2000e+03  0.0000e+00  0.0000e+00  8.5000e+03]\n",
      " [ 8.7000e+01  1.0315e+03  2.0000e+00 -1.0000e+00  1.0301e+03  1.0070e+03\n",
      "   2.3000e+03  0.0000e+00  0.0000e+00  0.0000e+00]\n",
      " [ 8.6000e+01  1.0322e+03  1.0000e+00 -2.0000e+00  1.0308e+03  1.0076e+03\n",
      "   2.2000e+03  0.0000e+00  0.0000e+00  0.0000e+00]\n",
      " [ 7.5000e+01  1.0325e+03  8.0000e+00  2.0000e+00  1.0312e+03  1.0080e+03\n",
      "   2.2000e+03  1.1000e+02  6.0000e+00  0.0000e+00]\n",
      " [ 6.9000e+01  1.0330e+03  1.2000e+01  4.0000e+00  1.0318e+03  1.0086e+03\n",
      "   2.5000e+03  0.0000e+00  0.0000e+00  0.0000e+00]\n",
      " [ 6.1000e+01  1.0325e+03  1.6000e+01  5.0000e+00  1.0315e+03  1.0083e+03\n",
      "   3.2000e+03  0.0000e+00  0.0000e+00  2.2000e+04]\n",
      " [ 6.7000e+01  1.0322e+03  1.7000e+01  8.0000e+00  1.0312e+03  1.0080e+03\n",
      "   3.5000e+03  0.0000e+00  0.0000e+00  2.2000e+04]\n",
      " [ 7.0000e+01  1.0316e+03  1.7000e+01  9.0000e+00  1.0305e+03  1.0073e+03\n",
      "   0.0000e+00  0.0000e+00  0.0000e+00  0.0000e+00]\n",
      " [ 7.0000e+01  1.0312e+03  1.8000e+01  1.0000e+01  1.0301e+03  1.0070e+03\n",
      "   0.0000e+00  0.0000e+00  0.0000e+00  0.0000e+00]\n",
      " [ 7.0000e+01  1.0312e+03  1.8000e+01  1.0000e+01  1.0298e+03  1.0066e+03\n",
      "   0.0000e+00  0.0000e+00  0.0000e+00  0.0000e+00]\n",
      " [ 6.7000e+01  1.0312e+03  1.8000e+01  9.0000e+00  1.0298e+03  1.0066e+03\n",
      "   2.5000e+04  0.0000e+00  0.0000e+00  0.0000e+00]\n",
      " [ 7.6000e+01  1.0312e+03  1.3000e+01  7.0000e+00  1.0298e+03  1.0066e+03\n",
      "   0.0000e+00  0.0000e+00  0.0000e+00  0.0000e+00]\n",
      " [ 8.2000e+01  1.0315e+03  8.0000e+00  4.0000e+00  1.0301e+03  1.0070e+03\n",
      "   0.0000e+00  0.0000e+00  0.0000e+00  0.0000e+00]\n",
      " [ 8.2000e+01  1.0318e+03  6.0000e+00  2.0000e+00  1.0301e+03  1.0070e+03\n",
      "   0.0000e+00  0.0000e+00  0.0000e+00  0.0000e+00]\n",
      " [ 8.7000e+01  1.0314e+03  4.0000e+00  1.0000e+00  1.0298e+03  1.0066e+03\n",
      "   2.6000e+03  1.8000e+02  3.0000e+00  0.0000e+00]\n",
      " [ 8.2000e+01  1.0305e+03  8.0000e+00  4.0000e+00  1.0291e+03  1.0060e+03\n",
      "   2.8000e+03  0.0000e+00  0.0000e+00  0.0000e+00]]\n",
      "Label: [0. 0. 0. 1.]\n",
      "Sample Weight: 0.3\n"
     ]
    },
    {
     "data": {
      "image/png": "[encoded data removed]",
      "text/plain": [
       "<Figure size 1600x800 with 8 Axes>"
      ]
     },
     "metadata": {},
     "output_type": "display_data"
    },
    {
     "name": "stdout",
     "output_type": "stream",
     "text": [
      "\n",
      "=== Sample 2 ===\n",
      "Meteorological Data:\n",
      "[[8.8000e+01 1.0139e+03 4.3000e+01 4.0000e+01 1.0135e+03 9.9070e+02\n",
      "  8.0000e+02 1.5000e+02 5.0000e+00 0.0000e+00]\n",
      " [8.5000e+01 1.0141e+03 4.4000e+01 4.0000e+01 1.0135e+03 9.9070e+02\n",
      "  8.0000e+02 0.0000e+00 5.0000e+00 0.0000e+00]\n",
      " [8.8000e+01 1.0140e+03 4.4000e+01 4.1000e+01 1.0135e+03 9.9070e+02\n",
      "  8.0000e+02 1.5000e+02 3.0000e+00 0.0000e+00]\n",
      " [8.5000e+01 1.0141e+03 4.5000e+01 4.1000e+01 1.0139e+03 9.9100e+02\n",
      "  1.0000e+03 1.6000e+02 5.0000e+00 0.0000e+00]\n",
      " [7.9000e+01 1.0187e+03 4.0000e+01 3.4000e+01 1.0183e+03 9.9530e+02\n",
      "  7.0000e+03 1.3000e+02 6.0000e+00 0.0000e+00]\n",
      " [7.2000e+01 1.0187e+03 4.2000e+01 3.4000e+01 1.0183e+03 9.9530e+02\n",
      "  7.0000e+03 0.0000e+00 3.0000e+00 0.0000e+00]\n",
      " [8.5000e+01 1.0188e+03 4.0000e+01 3.6000e+01 1.0183e+03 9.9530e+02\n",
      "  6.0000e+03 0.0000e+00 0.0000e+00 8.5000e+03]\n",
      " [8.2000e+01 1.0181e+03 4.0000e+01 3.5000e+01 1.0176e+03 9.9470e+02\n",
      "  8.0000e+03 1.3000e+02 6.0000e+00 9.0000e+03]\n",
      " [7.9000e+01 1.0171e+03 4.1000e+01 3.5000e+01 1.0166e+03 9.9370e+02\n",
      "  9.0000e+03 1.4000e+02 8.0000e+00 0.0000e+00]\n",
      " [7.5000e+01 1.0165e+03 4.1000e+01 3.4000e+01 1.0163e+03 9.9330e+02\n",
      "  9.0000e+03 0.0000e+00 7.0000e+00 0.0000e+00]\n",
      " [9.2000e+01 1.0118e+03 4.9000e+01 4.7000e+01 1.0115e+03 9.8870e+02\n",
      "  9.0000e+02 0.0000e+00 3.0000e+00 0.0000e+00]\n",
      " [8.9000e+01 1.0124e+03 5.1000e+01 4.8000e+01 1.0122e+03 9.8930e+02\n",
      "  7.0000e+02 0.0000e+00 0.0000e+00 0.0000e+00]\n",
      " [9.2000e+01 1.0126e+03 5.1000e+01 4.9000e+01 1.0122e+03 9.8930e+02\n",
      "  7.0000e+02 2.5000e+02 3.0000e+00 0.0000e+00]\n",
      " [8.9000e+01 1.0127e+03 5.2000e+01 4.9000e+01 1.0125e+03 9.8970e+02\n",
      "  7.0000e+02 2.4000e+02 6.0000e+00 0.0000e+00]\n",
      " [8.0000e+01 1.0134e+03 5.4000e+01 4.8000e+01 1.0132e+03 9.9030e+02\n",
      "  2.2000e+03 2.6000e+02 1.0000e+01 4.5000e+03]\n",
      " [7.4000e+01 1.0137e+03 5.5000e+01 4.7000e+01 1.0135e+03 9.9070e+02\n",
      "  1.6000e+03 3.0000e+02 1.3000e+01 3.2000e+03]\n",
      " [7.1000e+01 1.0137e+03 5.4000e+01 4.5000e+01 1.0135e+03 9.9070e+02\n",
      "  1.8000e+03 2.9000e+02 8.0000e+00 3.6000e+03]\n",
      " [4.6000e+01 1.0137e+03 5.5000e+01 3.5000e+01 1.0135e+03 9.9070e+02\n",
      "  2.1000e+03 3.3000e+02 1.0000e+01 0.0000e+00]\n",
      " [5.4000e+01 1.0142e+03 5.4000e+01 3.8000e+01 1.0139e+03 9.9100e+02\n",
      "  2.6000e+03 3.0000e+02 1.0000e+01 0.0000e+00]\n",
      " [5.6000e+01 1.0151e+03 5.1000e+01 3.6000e+01 1.0149e+03 9.9200e+02\n",
      "  3.5000e+03 3.2000e+02 9.0000e+00 0.0000e+00]\n",
      " [6.0000e+01 1.0153e+03 4.9000e+01 3.6000e+01 1.0152e+03 9.9230e+02\n",
      "  1.1000e+04 3.2000e+02 1.0000e+01 0.0000e+00]\n",
      " [6.5000e+01 1.0160e+03 4.6000e+01 3.5000e+01 1.0159e+03 9.9300e+02\n",
      "  0.0000e+00 2.9000e+02 5.0000e+00 0.0000e+00]\n",
      " [6.7000e+01 1.0167e+03 4.6000e+01 3.6000e+01 1.0166e+03 9.9370e+02\n",
      "  0.0000e+00 0.0000e+00 0.0000e+00 0.0000e+00]\n",
      " [7.6000e+01 1.0172e+03 4.3000e+01 3.6000e+01 1.0169e+03 9.9400e+02\n",
      "  0.0000e+00 0.0000e+00 0.0000e+00 0.0000e+00]]\n",
      "Label: [0. 0. 0. 1.]\n",
      "Sample Weight: 0.3\n"
     ]
    },
    {
     "data": {
      "image/png": "[encoded data removed]",
      "text/plain": [
       "<Figure size 1600x800 with 8 Axes>"
      ]
     },
     "metadata": {},
     "output_type": "display_data"
    }
   ],
   "source": [
    "import matplotlib.pyplot as plt\n",
    "\n",
    "# Fetch the first batch of data from the generator\n",
    "inputs, labels, sample_weights = train_generator[0]  # First batch\n",
    "\n",
    "# Extract image and meteorological data\n",
    "sample_images = inputs['cloud_input'][:2]  # First two samples\n",
    "sample_meteo = inputs['meteo_input'][:2]    # First two meteorological inputs\n",
    "sample_labels = labels[:2]                  # First two labels\n",
    "sample_weights = sample_weights[:2]         # First two sample weights\n",
    "\n",
    "# Plot images for the first two samples\n",
    "for sample_idx in range(2):\n",
    "    print(f\"\\n=== Sample {sample_idx+1} ===\")\n",
    "    print(f\"Meteorological Data:\\n{sample_meteo[sample_idx]}\")\n",
    "    print(f\"Label: {sample_labels[sample_idx]}\")\n",
    "    print(f\"Sample Weight: {sample_weights[sample_idx]}\")\n",
    "\n",
    "    # Visualize the image sequence for each sample\n",
    "    plt.figure(figsize=(16, 8))\n",
    "    for img_idx in range(sample_images.shape[1]):  # Iterate through 8 images in the sequence\n",
    "        plt.subplot(2, 4, img_idx + 1)\n",
    "        plt.imshow(sample_images[sample_idx, img_idx].squeeze(), cmap='gray')\n",
    "        plt.axis('off')\n",
    "        plt.title(f'Image {img_idx + 1}')\n",
    "    plt.suptitle(f\"Sample {sample_idx+1} - Image Sequence\", fontsize=16)\n",
    "    plt.tight_layout()\n",
    "    plt.show()"
   ]
  },
  {
   "cell_type": "code",
   "execution_count": 34,
   "id": "71308f69-88e0-415c-b89c-198783aee6c5",
   "metadata": {},
   "outputs": [
    {
     "name": "stdout",
     "output_type": "stream",
     "text": [
      "Class Weights: {0: 18.5, 1: 12.0, 2: 13.0, 3: 0.3}\n",
      "Sample Weights for First Batch: [ 0.3  0.3  0.3  0.3  0.3  0.3  0.3  0.3  0.3  0.3  0.3  0.3  0.3  0.3\n",
      "  0.3  0.3  0.3 12.   0.3  0.3  0.3  0.3  0.3  0.3  0.3  0.3  0.3  0.3\n",
      "  0.3  0.3  0.3  0.3]\n"
     ]
    }
   ],
   "source": [
    "print(\"Class Weights:\", class_weights_manual_24)\n",
    "print(\"Sample Weights for First Batch:\", train_generator[0][2])"
   ]
  },
  {
   "cell_type": "code",
   "execution_count": 35,
   "id": "83e31f43",
   "metadata": {},
   "outputs": [
    {
     "name": "stdout",
     "output_type": "stream",
     "text": [
      "['cloud_input', 'meteo_input']\n"
     ]
    }
   ],
   "source": [
    "print([input.name for input in model_optimized.inputs])"
   ]
  },
  {
   "cell_type": "markdown",
   "id": "fbdf3726",
   "metadata": {},
   "source": [
    "## 9. Model Training"
   ]
  },
  {
   "cell_type": "markdown",
   "id": "3ad2d96c",
   "metadata": {},
   "source": [
    "We are training our hybrid model to predict target categories by integrating meteorological time-series data and satellite image sequences. The model processes meteorological inputs and cloud image sequences simultaneously, extracting complementary features to improve prediction accuracy.\n",
    "\n",
    "To ensure robust training, we will validate the model's performance during each epoch using a separate validation dataset. By setting the training duration to 10 epochs and using a batch-based data generator, we provide the model with sufficient iterations to learn meaningful patterns while maintaining memory efficiency."
   ]
  },
  {
   "cell_type": "code",
   "execution_count": 36,
   "id": "5d07506a-fd44-4d8e-95b8-d0dbece9fc79",
   "metadata": {},
   "outputs": [
    {
     "name": "stdout",
     "output_type": "stream",
     "text": [
      "Epoch 1/10\n",
      "\u001b[1m977/977\u001b[0m \u001b[32m━━━━━━━━━━━━━━━━━━━━\u001b[0m\u001b[37m\u001b[0m \u001b[1m743s\u001b[0m 753ms/step - accuracy: 0.1538 - loss: 1.9726 - val_accuracy: 0.2679 - val_loss: 1.4832 - learning_rate: 1.0000e-04\n",
      "Epoch 2/10\n",
      "\u001b[1m977/977\u001b[0m \u001b[32m━━━━━━━━━━━━━━━━━━━━\u001b[0m\u001b[37m\u001b[0m \u001b[1m997s\u001b[0m 1s/step - accuracy: 0.2420 - loss: 1.7410 - val_accuracy: 0.2798 - val_loss: 1.4187 - learning_rate: 1.0000e-04\n",
      "Epoch 3/10\n",
      "\u001b[1m977/977\u001b[0m \u001b[32m━━━━━━━━━━━━━━━━━━━━\u001b[0m\u001b[37m\u001b[0m \u001b[1m724s\u001b[0m 742ms/step - accuracy: 0.2649 - loss: 1.7041 - val_accuracy: 0.3056 - val_loss: 1.3785 - learning_rate: 1.0000e-04\n",
      "Epoch 4/10\n",
      "\u001b[1m977/977\u001b[0m \u001b[32m━━━━━━━━━━━━━━━━━━━━\u001b[0m\u001b[37m\u001b[0m \u001b[1m691s\u001b[0m 707ms/step - accuracy: 0.2664 - loss: 1.5766 - val_accuracy: 0.3651 - val_loss: 1.3800 - learning_rate: 1.0000e-04\n",
      "Epoch 5/10\n",
      "\u001b[1m977/977\u001b[0m \u001b[32m━━━━━━━━━━━━━━━━━━━━\u001b[0m\u001b[37m\u001b[0m \u001b[1m0s\u001b[0m 696ms/step - accuracy: 0.3275 - loss: 1.5181\n",
      "Epoch 5: saving model to model_checkpoints/hybrid_model_lstm_24_window_epoch_05.keras\n",
      "\u001b[1m977/977\u001b[0m \u001b[32m━━━━━━━━━━━━━━━━━━━━\u001b[0m\u001b[37m\u001b[0m \u001b[1m686s\u001b[0m 702ms/step - accuracy: 0.3275 - loss: 1.5181 - val_accuracy: 0.4206 - val_loss: 1.3417 - learning_rate: 1.0000e-04\n",
      "Epoch 6/10\n",
      "\u001b[1m977/977\u001b[0m \u001b[32m━━━━━━━━━━━━━━━━━━━━\u001b[0m\u001b[37m\u001b[0m \u001b[1m685s\u001b[0m 701ms/step - accuracy: 0.3859 - loss: 1.4653 - val_accuracy: 0.4345 - val_loss: 1.3122 - learning_rate: 1.0000e-04\n",
      "Epoch 7/10\n",
      "\u001b[1m977/977\u001b[0m \u001b[32m━━━━━━━━━━━━━━━━━━━━\u001b[0m\u001b[37m\u001b[0m \u001b[1m677s\u001b[0m 693ms/step - accuracy: 0.4302 - loss: 1.3461 - val_accuracy: 0.4306 - val_loss: 1.2941 - learning_rate: 1.0000e-04\n",
      "Epoch 8/10\n",
      "\u001b[1m977/977\u001b[0m \u001b[32m━━━━━━━━━━━━━━━━━━━━\u001b[0m\u001b[37m\u001b[0m \u001b[1m686s\u001b[0m 702ms/step - accuracy: 0.4450 - loss: 1.3466 - val_accuracy: 0.4345 - val_loss: 1.3063 - learning_rate: 1.0000e-04\n",
      "Epoch 9/10\n",
      "\u001b[1m977/977\u001b[0m \u001b[32m━━━━━━━━━━━━━━━━━━━━\u001b[0m\u001b[37m\u001b[0m \u001b[1m677s\u001b[0m 693ms/step - accuracy: 0.4941 - loss: 1.2249 - val_accuracy: 0.4405 - val_loss: 1.3224 - learning_rate: 1.0000e-04\n",
      "Epoch 10/10\n",
      "\u001b[1m977/977\u001b[0m \u001b[32m━━━━━━━━━━━━━━━━━━━━\u001b[0m\u001b[37m\u001b[0m \u001b[1m0s\u001b[0m 694ms/step - accuracy: 0.4969 - loss: 1.2479\n",
      "Epoch 10: saving model to model_checkpoints/hybrid_model_lstm_24_window_epoch_10.keras\n",
      "\u001b[1m977/977\u001b[0m \u001b[32m━━━━━━━━━━━━━━━━━━━━\u001b[0m\u001b[37m\u001b[0m \u001b[1m685s\u001b[0m 701ms/step - accuracy: 0.4969 - loss: 1.2478 - val_accuracy: 0.4563 - val_loss: 1.4047 - learning_rate: 1.0000e-04\n"
     ]
    }
   ],
   "source": [
    "callbacks = [reduce_lr, checkpoint_callback]\n",
    "\n",
    "# Remove 'class_weight' from model.fit()\n",
    "history = model_optimized.fit(\n",
    "    train_generator,\n",
    "    validation_data=val_generator,\n",
    "    epochs=10,\n",
    "    callbacks=callbacks,\n",
    "    verbose=1\n",
    ")"
   ]
  },
  {
   "cell_type": "code",
   "execution_count": null,
   "id": "445341b6",
   "metadata": {},
   "outputs": [],
   "source": [
    "from tensorflow.keras.models import load_model\n",
    "\n",
    "# Path to the saved model\n",
    "model_path = 'model_checkpoints/hybrid_model_lstm_24_window_epoch_10.keras'\n",
    "\n",
    "# Load the model\n",
    "loaded_model = load_model(model_path)\n",
    "\n",
    "# Display the model summary to confirm successful loading\n",
    "loaded_model.summary()\n"
   ]
  },
  {
   "cell_type": "markdown",
   "id": "b5aa0e04",
   "metadata": {},
   "source": [
    "## 10. Evaluation"
   ]
  },
  {
   "cell_type": "markdown",
   "id": "61957df1",
   "metadata": {},
   "source": [
    "Now, let's see the results of our training.\n",
    "\n",
    "- We are evaluating our model by predicting outcomes on the validation dataset for 24 hours window.\n",
    "- Once we generate the predictions, we convert them into class labels to match the format of the actual validation labels.\n",
    "- This allows us to compare the model's predictions with the true labels for each time window.\n",
    "- Additionally, we are preparing to analyze the results using tools like confusion matrices.\n",
    "- These will visually show how well the model distinguishes between the precipitation categories by mapping true labels against predicted labels, giving us insights into the model's performance and any patterns of misclassification."
   ]
  },
  {
   "cell_type": "code",
   "execution_count": null,
   "id": "13727122-5f38-43e4-944b-846081f4126c",
   "metadata": {},
   "outputs": [
    {
     "name": "stdout",
     "output_type": "stream",
     "text": [
      "\u001b[1m16/16\u001b[0m \u001b[32m━━━━━━━━━━━━━━━━━━━━\u001b[0m\u001b[37m\u001b[0m \u001b[1m3s\u001b[0m 176ms/step\n"
     ]
    }
   ],
   "source": [
    "from sklearn.metrics import confusion_matrix, classification_report\n",
    "import seaborn as sns\n",
    "import matplotlib.pyplot as plt\n",
    "import numpy as np\n",
    "\n",
    "# Step 1: Predict on the validation data\n",
    "y_pred_probs = model_optimized.predict(val_generator)  # Predicted probabilities\n",
    "y_pred = np.argmax(y_pred_probs, axis=1)       # Predicted class indices\n",
    "\n",
    "# Step 2: Extract true labels from the validation generator\n",
    "y_true = np.concatenate([np.argmax(y, axis=1) for _, y, _ in val_generator])\n",
    "\n",
    "# Step 3: Compute confusion matrix\n",
    "cm = confusion_matrix(y_true, y_pred)\n",
    "\n",
    "# Step 4: Generate classification report\n",
    "classes = ['High Rain', 'Less Rain', 'Medium Rain', 'No Rain']  # Adjust based on your class labels\n",
    "report = classification_report(y_true, y_pred, target_names=classes)\n",
    "print(\"Classification Report:\\n\", report)\n",
    "\n",
    "# Step 5: Visualize confusion matrix\n",
    "plt.figure(figsize=(10, 8))\n",
    "sns.heatmap(cm, annot=True, fmt=\"d\", cmap=\"Blues\", xticklabels=classes, yticklabels=classes)\n",
    "plt.xlabel('Predicted Label')\n",
    "plt.ylabel('True Label')\n",
    "plt.title('Confusion Matrix')\n",
    "plt.show()\n"
   ]
  },
  {
   "cell_type": "markdown",
   "id": "f557f5f5",
   "metadata": {},
   "source": [
    "The classification reports summarize the model's performance across four precipitation categories (0, 1, 2, 3), which likely correspond to \"No Rain,\" \"Less Rain,\" \"Medium Rain,\" and \"High Rain.\" Key metrics:\n",
    "- <b>Precision:</b> How many of the predicted values for a class were correct.\n",
    "- <b>Recall:</b> How many actual instances of a class were correctly predicted.\n",
    "- <b>F1-score:</b> The harmonic mean of precision and recall, providing a single measure of model performance.\n",
    "- <b>Support:</b> The number of true instances for each class."
   ]
  },
  {
   "cell_type": "markdown",
   "id": "612e8072",
   "metadata": {},
   "source": [
    "So, what are those colorful boxes? These are what we call Confusion Matrix.\n",
    "\n",
    "<b>What are Confusion Matrices?</b>\n",
    "    \n",
    "Each matrix represents the model's prediction results compared to actual labels:\n",
    "- Rows correspond to true classes.\n",
    "- Columns correspond to predicted classes.\n",
    "- The diagonal indicates correct predictions.\n",
    "- Off-diagonal elements represent misclassifications."
   ]
  }
 ],
 "metadata": {
  "kernelspec": {
   "display_name": "MLEnvironment",
   "language": "python",
   "name": "python3"
  },
  "language_info": {
   "codemirror_mode": {
    "name": "ipython",
    "version": 3
   },
   "file_extension": ".py",
   "mimetype": "text/x-python",
   "name": "python",
   "nbconvert_exporter": "python",
   "pygments_lexer": "ipython3",
   "version": "3.12.5"
  }
 },
 "nbformat": 4,
 "nbformat_minor": 5
}
